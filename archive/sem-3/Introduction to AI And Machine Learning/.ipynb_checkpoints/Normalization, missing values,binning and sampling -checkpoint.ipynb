{
 "cells": [
  {
   "cell_type": "markdown",
   "id": "0a144e40-a643-4496-8341-f7095962f25b",
   "metadata": {},
   "source": [
    "# Creating A Dataframe"
   ]
  },
  {
   "cell_type": "code",
   "execution_count": 27,
   "id": "XU8gNZoSEoLH",
   "metadata": {
    "colab": {
     "base_uri": "https://localhost:8080/"
    },
    "executionInfo": {
     "elapsed": 1493,
     "status": "ok",
     "timestamp": 1720711691794,
     "user": {
      "displayName": "Manju Sreekumar",
      "userId": "15739172059804483042"
     },
     "user_tz": -330
    },
    "id": "XU8gNZoSEoLH",
    "outputId": "dfc6502c-9795-4c86-d721-dae456464a17"
   },
   "outputs": [
    {
     "name": "stdout",
     "output_type": "stream",
     "text": [
      "First few rows of the dataset:\n",
      "   PassengerId  Survived  Pclass  \\\n",
      "0            1         0       3   \n",
      "1            2         1       1   \n",
      "2            3         1       3   \n",
      "3            4         1       1   \n",
      "4            5         0       3   \n",
      "\n",
      "                                                Name     Sex   Age  SibSp  \\\n",
      "0                            Braund, Mr. Owen Harris    male  22.0      1   \n",
      "1  Cumings, Mrs. John Bradley (Florence Briggs Th...  female  38.0      1   \n",
      "2                             Heikkinen, Miss. Laina  female  26.0      0   \n",
      "3       Futrelle, Mrs. Jacques Heath (Lily May Peel)  female  35.0      1   \n",
      "4                           Allen, Mr. William Henry    male  35.0      0   \n",
      "\n",
      "   Parch            Ticket     Fare Cabin Embarked  \n",
      "0      0         A/5 21171   7.2500   NaN        S  \n",
      "1      0          PC 17599  71.2833   C85        C  \n",
      "2      0  STON/O2. 3101282   7.9250   NaN        S  \n",
      "3      0            113803  53.1000  C123        S  \n",
      "4      0            373450   8.0500   NaN        S  \n",
      "(891, 12)\n"
     ]
    }
   ],
   "source": [
    "import pandas as pd\n",
    "import numpy as np\n",
    "\n",
    "\n"
   ]
  },
  {
   "cell_type": "markdown",
   "id": "9de42d9a-c1ae-43b4-9ab7-81121d736a27",
   "metadata": {},
   "source": [
    "## Load the Titanic dataset"
   ]
  },
  {
   "cell_type": "code",
   "execution_count": null,
   "id": "15408212-164f-4a47-b7b6-62fe0c98feb0",
   "metadata": {},
   "outputs": [],
   "source": [
    "df = pd.read_csv('titanic.csv')"
   ]
  },
  {
   "cell_type": "markdown",
   "id": "bb53c168-4a99-4b5b-99e6-7d3e2e3872bf",
   "metadata": {},
   "source": [
    "## Display the first few rows of the dataset"
   ]
  },
  {
   "cell_type": "code",
   "execution_count": null,
   "id": "cbf6a832-54ad-4b86-a90b-52dc1cd55faa",
   "metadata": {},
   "outputs": [],
   "source": [
    "print(\"First few rows of the dataset:\")\n",
    "print(df.head())\n",
    "print(df.shape)"
   ]
  },
  {
   "cell_type": "markdown",
   "id": "508f702f-2b7a-44f7-b5e2-80801b3ee277",
   "metadata": {},
   "source": [
    "## Identify missing values"
   ]
  },
  {
   "cell_type": "code",
   "execution_count": 29,
   "id": "FL_9Pym4INZj",
   "metadata": {
    "colab": {
     "base_uri": "https://localhost:8080/"
    },
    "executionInfo": {
     "elapsed": 607,
     "status": "ok",
     "timestamp": 1720623561108,
     "user": {
      "displayName": "Manju Sreekumar",
      "userId": "15739172059804483042"
     },
     "user_tz": -330
    },
    "id": "FL_9Pym4INZj",
    "outputId": "18312dcd-ec44-4b8d-e575-75a2e638ff78"
   },
   "outputs": [
    {
     "name": "stdout",
     "output_type": "stream",
     "text": [
      "\n",
      "Missing values in each column:\n",
      "PassengerId      0\n",
      "Survived         0\n",
      "Pclass           0\n",
      "Name             0\n",
      "Sex              0\n",
      "Age            177\n",
      "SibSp            0\n",
      "Parch            0\n",
      "Ticket           0\n",
      "Fare             0\n",
      "Cabin          687\n",
      "Embarked         2\n",
      "dtype: int64\n"
     ]
    }
   ],
   "source": [
    "print(\"\\nMissing values in each column:\")\n",
    "print(df.isnull().sum())"
   ]
  },
  {
   "cell_type": "markdown",
   "id": "fa9c6164-2fbd-4d9c-93e4-3ce1052a75cb",
   "metadata": {
    "id": "BVuWoLm0Qbsp"
   },
   "source": [
    "# HANDLING MISSING VALUES"
   ]
  },
  {
   "cell_type": "markdown",
   "id": "d7511dff-09fe-4448-907a-a429d41c59d1",
   "metadata": {},
   "source": [
    "## Method 1: Drop rows with missing values"
   ]
  },
  {
   "cell_type": "code",
   "execution_count": 7,
   "id": "lOIs63g6Iqkg",
   "metadata": {
    "colab": {
     "base_uri": "https://localhost:8080/"
    },
    "executionInfo": {
     "elapsed": 513,
     "status": "ok",
     "timestamp": 1720623772751,
     "user": {
      "displayName": "Manju Sreekumar",
      "userId": "15739172059804483042"
     },
     "user_tz": -330
    },
    "id": "lOIs63g6Iqkg",
    "outputId": "7e3ecfb1-db65-43c5-cff5-901bc1be9f74"
   },
   "outputs": [
    {
     "name": "stdout",
     "output_type": "stream",
     "text": [
      "\n",
      " METHOD 1 Shape of dataset after dropping rows with missing values: (183, 12)\n"
     ]
    }
   ],
   "source": [
    "df_dropped = df.dropna()\n",
    "print(\"\\n METHOD 1 Shape of dataset after dropping rows with missing values:\", df_dropped.shape)"
   ]
  },
  {
   "cell_type": "markdown",
   "id": "7ce390d1-fc49-465c-812d-a2e6d25ad74e",
   "metadata": {},
   "source": [
    "## Method 2: Fill missing values with a specific value (e.g., 0)"
   ]
  },
  {
   "cell_type": "code",
   "execution_count": 10,
   "id": "885911c6-ae88-488f-a6d6-61254fe65326",
   "metadata": {},
   "outputs": [
    {
     "name": "stdout",
     "output_type": "stream",
     "text": [
      "\n",
      "METHOD 2 Missing values filled with 0:\n",
      "PassengerId    0\n",
      "Survived       0\n",
      "Pclass         0\n",
      "Name           0\n",
      "Sex            0\n",
      "Age            0\n",
      "SibSp          0\n",
      "Parch          0\n",
      "Ticket         0\n",
      "Fare           0\n",
      "Cabin          0\n",
      "Embarked       0\n",
      "dtype: int64\n"
     ]
    }
   ],
   "source": [
    "df_filled_zeros = df.fillna(0)\n",
    "print(\"\\nMETHOD 2 Missing values filled with 0:\")\n",
    "print(df_filled_zeros.isnull().sum())"
   ]
  },
  {
   "cell_type": "markdown",
   "id": "0e725040-d96e-42a6-8e23-b257e80f8865",
   "metadata": {},
   "source": [
    "##  Method 3: Fill missing values with the mean (for numerical columns)"
   ]
  },
  {
   "cell_type": "code",
   "execution_count": 24,
   "id": "HX7cllyCKlxf",
   "metadata": {
    "colab": {
     "base_uri": "https://localhost:8080/"
    },
    "executionInfo": {
     "elapsed": 616,
     "status": "ok",
     "timestamp": 1720624007281,
     "user": {
      "displayName": "Manju Sreekumar",
      "userId": "15739172059804483042"
     },
     "user_tz": -330
    },
    "id": "HX7cllyCKlxf",
    "outputId": "24c410b9-ad50-4e92-9a58-d8693fab43d1"
   },
   "outputs": [
    {
     "name": "stdout",
     "output_type": "stream",
     "text": [
      "\n",
      "METHOD 3 Missing values in 'Age' column after filling with mean:\n",
      "0\n"
     ]
    }
   ],
   "source": [
    "# df['Age'].fillna(df['Age'].mean(), inplace=True) (Original command, no longer works.)\n",
    "df.fillna({'Age':df['Age'].mean()}, inplace=True)\n",
    "\n",
    "print(\"\\nMETHOD 3 Missing values in 'Age' column after filling with mean:\")\n",
    "print(df['Age'].isnull().sum())"
   ]
  },
  {
   "cell_type": "markdown",
   "id": "1b58a212-96bf-4592-a0cb-3818a2843def",
   "metadata": {},
   "source": [
    "## Method 4: Fill missing values with the most frequent value (mode)"
   ]
  },
  {
   "cell_type": "code",
   "execution_count": 34,
   "id": "f9b802d6-63ee-4f21-809e-c850fd3b400d",
   "metadata": {},
   "outputs": [
    {
     "name": "stdout",
     "output_type": "stream",
     "text": [
      "\n",
      "METHOD 4 Missing values in 'Embarked' column after filling with mode:\n",
      "0\n"
     ]
    }
   ],
   "source": [
    "# df['Embarked'].fillna(df['Embarked'].mode()[0], inplace=True) (Original command, no longer works)\n",
    "df.fillna({'Embarked': df['Embarked'].mode()[0]}, inplace = True)\n",
    "print(\"\\nMETHOD 4 Missing values in 'Embarked' column after filling with mode:\")\n",
    "print(df['Embarked'].isnull().sum())"
   ]
  },
  {
   "cell_type": "markdown",
   "id": "4cc0f1b4-009b-4d80-802c-d83bba686c57",
   "metadata": {},
   "source": [
    "# Method 5: Forward fill method"
   ]
  },
  {
   "cell_type": "code",
   "execution_count": 26,
   "id": "l62Q4feuIq8i",
   "metadata": {
    "colab": {
     "base_uri": "https://localhost:8080/"
    },
    "executionInfo": {
     "elapsed": 1815,
     "status": "ok",
     "timestamp": 1720625144642,
     "user": {
      "displayName": "Manju Sreekumar",
      "userId": "15739172059804483042"
     },
     "user_tz": -330
    },
    "id": "l62Q4feuIq8i",
    "outputId": "06b05943-2441-48bd-b8a8-b9d82057e361"
   },
   "outputs": [
    {
     "name": "stdout",
     "output_type": "stream",
     "text": [
      "\n",
      "Method 5 Missing values handled using forward fill method:\n",
      "PassengerId    0\n",
      "Survived       0\n",
      "Pclass         0\n",
      "Name           0\n",
      "Sex            0\n",
      "Age            0\n",
      "SibSp          0\n",
      "Parch          0\n",
      "Ticket         0\n",
      "Fare           0\n",
      "Cabin          1\n",
      "Embarked       0\n",
      "dtype: int64\n"
     ]
    }
   ],
   "source": [
    "df_ffill = df.ffill()\n",
    "print(\"\\nMethod 5 Missing values handled using forward fill method:\")\n",
    "print(df_ffill.isnull().sum())"
   ]
  },
  {
   "cell_type": "markdown",
   "id": "6fc34953-b43c-45b8-8feb-ddfd72ee2397",
   "metadata": {},
   "source": [
    "## Method 6: Backward fill method"
   ]
  },
  {
   "cell_type": "code",
   "execution_count": 35,
   "id": "rko_GYCNEmzQ",
   "metadata": {
    "id": "rko_GYCNEmzQ"
   },
   "outputs": [
    {
     "name": "stdout",
     "output_type": "stream",
     "text": [
      "\n",
      "Method 6 Missing values handled using backward fill method:\n",
      "PassengerId    0\n",
      "Survived       0\n",
      "Pclass         0\n",
      "Name           0\n",
      "Sex            0\n",
      "Age            0\n",
      "SibSp          0\n",
      "Parch          0\n",
      "Ticket         0\n",
      "Fare           0\n",
      "Cabin          1\n",
      "Embarked       0\n",
      "dtype: int64\n",
      "*****************\n"
     ]
    }
   ],
   "source": [
    "df_bfill = df.bfill()\n",
    "print(\"\\nMethod 6 Missing values handled using backward fill method:\")\n",
    "print(df_bfill.isnull().sum())\n",
    "print(\"*****************\")"
   ]
  },
  {
   "cell_type": "markdown",
   "id": "3bde0311-e081-4697-90dd-3e67bf444067",
   "metadata": {
    "id": "-404dxpdQh9W"
   },
   "source": [
    "## NORMALIZATION"
   ]
  },
  {
   "cell_type": "markdown",
   "id": "0ec093b3-8aaa-4f94-ba4b-93a3adc92d37",
   "metadata": {},
   "source": [
    "### NORMALISING A ASET OF VALUES USING MIN MAX NORMALIZATION"
   ]
  },
  {
   "cell_type": "code",
   "execution_count": 39,
   "id": "GWPBnTlQQtSQ",
   "metadata": {
    "colab": {
     "base_uri": "https://localhost:8080/"
    },
    "executionInfo": {
     "elapsed": 521,
     "status": "ok",
     "timestamp": 1720626202906,
     "user": {
      "displayName": "Manju Sreekumar",
      "userId": "15739172059804483042"
     },
     "user_tz": -330
    },
    "id": "GWPBnTlQQtSQ",
    "outputId": "3ef551a4-23cc-40ab-8aac-25ee64ed804f"
   },
   "outputs": [],
   "source": [
    "import numpy as np\n",
    "from sklearn.preprocessing import MinMaxScaler"
   ]
  },
  {
   "cell_type": "markdown",
   "id": "5ed327c0-22f8-44f9-9acd-4044971d15da",
   "metadata": {},
   "source": [
    "### Example usage:"
   ]
  },
  {
   "cell_type": "code",
   "execution_count": null,
   "id": "6abbd87b-dce3-4302-b9ce-25679c5a175d",
   "metadata": {},
   "outputs": [],
   "source": [
    "data = np.array([2, 5, 8, 11, 14]).reshape(-1, 1)  # Reshape to 2D array for scaler"
   ]
  },
  {
   "cell_type": "markdown",
   "id": "a24b3413-a35b-4055-b231-ba7804914829",
   "metadata": {},
   "source": [
    "### Initialize the MinMaxScaler"
   ]
  },
  {
   "cell_type": "code",
   "execution_count": 41,
   "id": "HWUZRYxrEnEc",
   "metadata": {
    "id": "HWUZRYxrEnEc"
   },
   "outputs": [],
   "source": [
    "scaler = MinMaxScaler()"
   ]
  },
  {
   "cell_type": "markdown",
   "id": "b6f0c0b3-6e59-4a0a-abdc-632dd752d4b3",
   "metadata": {},
   "source": [
    "### Apply Min-Max normalization"
   ]
  },
  {
   "cell_type": "code",
   "execution_count": null,
   "id": "0e8da78b-3830-46e9-800a-e2f3659c340a",
   "metadata": {},
   "outputs": [],
   "source": [
    "normalized_data = scaler.fit_transform(data)"
   ]
  },
  {
   "cell_type": "code",
   "execution_count": null,
   "id": "53d8959e-6f05-4330-9218-de4baa5b68de",
   "metadata": {},
   "outputs": [],
   "source": [
    "\n",
    "# Flatten the normalized data to 1D array\n",
    "normalized_data = normalized_data.flatten()\n",
    "\n",
    "print(normalized_data)"
   ]
  },
  {
   "cell_type": "code",
   "execution_count": null,
   "id": "aedc684c",
   "metadata": {
    "colab": {
     "base_uri": "https://localhost:8080/"
    },
    "executionInfo": {
     "elapsed": 499,
     "status": "ok",
     "timestamp": 1720626303732,
     "user": {
      "displayName": "Manju Sreekumar",
      "userId": "15739172059804483042"
     },
     "user_tz": -330
    },
    "id": "aedc684c",
    "outputId": "43a92cd7-ee3d-4221-c1ad-e6dc9c75233c"
   },
   "outputs": [
    {
     "name": "stdout",
     "output_type": "stream",
     "text": [
      "[-1.41421356 -0.70710678  0.          0.70710678  1.41421356]\n"
     ]
    }
   ],
   "source": [
    "####NORMALISING A SET OF VALUES USING Z-SCORE NORMALIZATION\n",
    "import numpy as np\n",
    "from sklearn.preprocessing import StandardScaler\n",
    "\n",
    "# Example usage:\n",
    "data = np.array([2, 5, 8, 11, 14]).reshape(-1, 1)  # Reshape to 2D array for scaler\n",
    "\n",
    "# Initialize the StandardScaler\n",
    "scaler = StandardScaler()\n",
    "\n",
    "# Apply Z-score normalization\n",
    "normalized_data = scaler.fit_transform(data)\n",
    "\n",
    "# Flatten the normalized data to 1D array\n",
    "normalized_data = normalized_data.flatten()\n",
    "\n",
    "print(normalized_data)\n"
   ]
  },
  {
   "cell_type": "code",
   "execution_count": null,
   "id": "mlfYfW2IeU37",
   "metadata": {
    "colab": {
     "base_uri": "https://localhost:8080/"
    },
    "executionInfo": {
     "elapsed": 1421,
     "status": "ok",
     "timestamp": 1720629233155,
     "user": {
      "displayName": "Manju Sreekumar",
      "userId": "15739172059804483042"
     },
     "user_tz": -330
    },
    "id": "mlfYfW2IeU37",
    "outputId": "c8e811a9-67d3-4bd9-fb54-338de03c6596"
   },
   "outputs": [
    {
     "name": "stdout",
     "output_type": "stream",
     "text": [
      "\n",
      "DataFrame after Min-Max normalization:\n",
      "     PassengerId  Survived  Pclass  \\\n",
      "0              1         0       3   \n",
      "1              2         1       1   \n",
      "2              3         1       3   \n",
      "3              4         1       1   \n",
      "4              5         0       3   \n",
      "..           ...       ...     ...   \n",
      "886          887         0       2   \n",
      "887          888         1       1   \n",
      "888          889         0       3   \n",
      "889          890         1       1   \n",
      "890          891         0       3   \n",
      "\n",
      "                                                  Name     Sex       Age  \\\n",
      "0                              Braund, Mr. Owen Harris    male  0.271174   \n",
      "1    Cumings, Mrs. John Bradley (Florence Briggs Th...  female  0.472229   \n",
      "2                               Heikkinen, Miss. Laina  female  0.321438   \n",
      "3         Futrelle, Mrs. Jacques Heath (Lily May Peel)  female  0.434531   \n",
      "4                             Allen, Mr. William Henry    male  0.434531   \n",
      "..                                                 ...     ...       ...   \n",
      "886                              Montvila, Rev. Juozas    male  0.334004   \n",
      "887                       Graham, Miss. Margaret Edith  female  0.233476   \n",
      "888           Johnston, Miss. Catherine Helen \"Carrie\"  female  0.367921   \n",
      "889                              Behr, Mr. Karl Howell    male  0.321438   \n",
      "890                                Dooley, Mr. Patrick    male  0.396833   \n",
      "\n",
      "     SibSp  Parch            Ticket      Fare Cabin Embarked  \n",
      "0        1      0         A/5 21171  0.014151   NaN        S  \n",
      "1        1      0          PC 17599  0.139136   C85        C  \n",
      "2        0      0  STON/O2. 3101282  0.015469   NaN        S  \n",
      "3        1      0            113803  0.103644  C123        S  \n",
      "4        0      0            373450  0.015713   NaN        S  \n",
      "..     ...    ...               ...       ...   ...      ...  \n",
      "886      0      0            211536  0.025374   NaN        S  \n",
      "887      0      0            112053  0.058556   B42        S  \n",
      "888      1      2        W./C. 6607  0.045771   NaN        S  \n",
      "889      0      0            111369  0.058556  C148        C  \n",
      "890      0      0            370376  0.015127   NaN        Q  \n",
      "\n",
      "[891 rows x 12 columns]\n"
     ]
    }
   ],
   "source": [
    "### NORMALIZING CERTAIN COLUMNS IN THE DATAFRAME\n",
    "\n",
    "# Initialize the MinMaxScaler\n",
    "scaler = MinMaxScaler()\n",
    "\n",
    "# List of columns to be normalized\n",
    "columns_to_normalize = ['Age', 'Fare']\n",
    "\n",
    "# Apply Min-Max normalization\n",
    "df[columns_to_normalize] = scaler.fit_transform(df[columns_to_normalize])\n",
    "\n",
    "print(\"\\nDataFrame after Min-Max normalization:\")\n",
    "print(df)"
   ]
  },
  {
   "cell_type": "code",
   "execution_count": null,
   "id": "lhQGx-nglDhs",
   "metadata": {
    "id": "lhQGx-nglDhs"
   },
   "outputs": [],
   "source": [
    "#####SAMPLING"
   ]
  },
  {
   "cell_type": "code",
   "execution_count": null,
   "id": "2ed1e12d",
   "metadata": {
    "id": "2ed1e12d",
    "outputId": "8e87592b-ae1f-49de-951b-aacc046d60e9"
   },
   "outputs": [
    {
     "name": "stdout",
     "output_type": "stream",
     "text": [
      "Simple Random Sample: [1, 67, 16, 43, 82, 71, 92, 30, 9, 100]\n"
     ]
    }
   ],
   "source": [
    "###RANDOM SAMPLING\n",
    "import random\n",
    "\n",
    "# Sample data\n",
    "population = list(range(1, 101))  # Population from 1 to 100\n",
    "sample_size = 10  # Size of the sample\n",
    "\n",
    "# Simple random sampling\n",
    "sample = random.sample(population, sample_size)\n",
    "print(\"Simple Random Sample:\", sample)\n"
   ]
  },
  {
   "cell_type": "code",
   "execution_count": null,
   "id": "c08e4fc9",
   "metadata": {
    "id": "c08e4fc9",
    "outputId": "45f4f0c1-168a-48ab-cbc8-cfd634be88c9"
   },
   "outputs": [
    {
     "name": "stdout",
     "output_type": "stream",
     "text": [
      "Stratified Sample: [1, 4, 8, 9]\n"
     ]
    }
   ],
   "source": [
    "###STRATIFIED SAMPLING\n",
    "\n",
    "import random\n",
    "\n",
    "# Sample data with strata\n",
    "strata_data = {\n",
    "    'stratum1': [1, 2, 3, 4, 5],\n",
    "    'stratum2': [6, 7, 8, 9, 10],\n",
    "}\n",
    "\n",
    "# Sample size per stratum\n",
    "sample_size_per_stratum = 2\n",
    "\n",
    "# Stratified sampling\n",
    "sample = []\n",
    "for stratum, data in strata_data.items():\n",
    "    stratum_sample = random.sample(data, sample_size_per_stratum)\n",
    "    sample.extend(stratum_sample)\n",
    "\n",
    "print(\"Stratified Sample:\", sample)\n"
   ]
  },
  {
   "cell_type": "code",
   "execution_count": null,
   "id": "dcc578be",
   "metadata": {
    "id": "dcc578be",
    "outputId": "1da3167c-7d57-4313-d167-d24be9ee1ce6"
   },
   "outputs": [
    {
     "name": "stdout",
     "output_type": "stream",
     "text": [
      "Systematic Sample: [1, 6, 11, 16, 21, 26, 31, 36, 41, 46, 51, 56, 61, 66, 71, 76, 81, 86, 91, 96]\n"
     ]
    }
   ],
   "source": [
    "# Sample data\n",
    "data = list(range(1, 101))  # Data from 1 to 100\n",
    "n = 5  # Every nth data point to be included in the sample\n",
    "\n",
    "# Systematic sampling\n",
    "sample = data[::n]\n",
    "print(\"Systematic Sample:\", sample)\n"
   ]
  },
  {
   "cell_type": "code",
   "execution_count": null,
   "id": "198e8d93",
   "metadata": {
    "colab": {
     "base_uri": "https://localhost:8080/"
    },
    "executionInfo": {
     "elapsed": 497,
     "status": "ok",
     "timestamp": 1720631283712,
     "user": {
      "displayName": "Manju Sreekumar",
      "userId": "15739172059804483042"
     },
     "user_tz": -330
    },
    "id": "198e8d93",
    "outputId": "4212c9df-096d-4c3e-8ad6-f48f339b1d5a"
   },
   "outputs": [
    {
     "name": "stdout",
     "output_type": "stream",
     "text": [
      "chosen clusters  ['cluster3', 'cluster2']\n",
      "Cluster Sample: [7, 8, 9, 4, 5, 6]\n"
     ]
    }
   ],
   "source": [
    "import random\n",
    "\n",
    "# Sample data with clusters\n",
    "clusters = {\n",
    "    'cluster1': [1, 2, 3],\n",
    "    'cluster2': [4, 5, 6],\n",
    "    'cluster3': [7, 8, 9],\n",
    "}\n",
    "\n",
    "# Number of clusters to sample\n",
    "clusters_to_sample = 2\n",
    "\n",
    "# Cluster sampling\n",
    "selected_clusters = random.sample(list(clusters.keys()), clusters_to_sample)\n",
    "print(\"chosen clusters \", selected_clusters)\n",
    "sample = []\n",
    "for cluster in selected_clusters:\n",
    "    sample.extend(clusters[cluster])\n",
    "\n",
    "print(\"Cluster Sample:\", sample)\n"
   ]
  },
  {
   "cell_type": "code",
   "execution_count": null,
   "id": "cZ1z4lSLs8Nh",
   "metadata": {
    "id": "cZ1z4lSLs8Nh"
   },
   "outputs": [],
   "source": [
    "####BINNING"
   ]
  },
  {
   "cell_type": "code",
   "execution_count": null,
   "id": "9156c8f9",
   "metadata": {
    "colab": {
     "base_uri": "https://localhost:8080/"
    },
    "executionInfo": {
     "elapsed": 4300,
     "status": "ok",
     "timestamp": 1720632165378,
     "user": {
      "displayName": "Manju Sreekumar",
      "userId": "15739172059804483042"
     },
     "user_tz": -330
    },
    "id": "9156c8f9",
    "outputId": "40e1d57b-1e93-47a6-ef1d-e25d3817a349"
   },
   "outputs": [
    {
     "name": "stdout",
     "output_type": "stream",
     "text": [
      "Drive already mounted at /content/drive; to attempt to forcibly remount, call drive.mount(\"/content/drive\", force_remount=True).\n",
      "/content/drive/My Drive/data-preprocessing\n"
     ]
    }
   ],
   "source": [
    "import pandas as pd\n",
    "from google.colab import drive\n",
    "drive.mount('/content/drive')\n",
    "%cd /content/drive/My\\ Drive/data-preprocessing/\n",
    "df = pd.read_csv('bollywood.csv')"
   ]
  },
  {
   "cell_type": "code",
   "execution_count": null,
   "id": "2348f313",
   "metadata": {
    "id": "2348f313"
   },
   "outputs": [],
   "source": [
    "import pandas as pd\n",
    "\n",
    "# Assuming 'df' is your DataFrame containing the dataset\n",
    "budget_bins = [0, 10, 20, float('inf')]  # Define your budget bins\n",
    "budget_labels = ['Low Budget', 'Medium Budget', 'High Budget']  # Labels for the bins\n",
    "\n",
    "df['BudgetBin'] = pd.cut(df['Budget'], bins=budget_bins, labels=budget_labels)\n"
   ]
  },
  {
   "cell_type": "code",
   "execution_count": null,
   "id": "2c85a64b",
   "metadata": {
    "colab": {
     "base_uri": "https://localhost:8080/",
     "height": 363
    },
    "executionInfo": {
     "elapsed": 783,
     "status": "ok",
     "timestamp": 1720632615843,
     "user": {
      "displayName": "Manju Sreekumar",
      "userId": "15739172059804483042"
     },
     "user_tz": -330
    },
    "id": "2c85a64b",
    "outputId": "a4110185-cf9b-4698-8c57-431135065389"
   },
   "outputs": [
    {
     "data": {
      "application/vnd.google.colaboratory.intrinsic+json": {
       "summary": "{\n  \"name\": \"df\",\n  \"rows\": 149,\n  \"fields\": [\n    {\n      \"column\": \"SlNo\",\n      \"properties\": {\n        \"dtype\": \"number\",\n        \"std\": 43,\n        \"min\": 1,\n        \"max\": 149,\n        \"num_unique_values\": 149,\n        \"samples\": [\n          74,\n          19,\n          118\n        ],\n        \"semantic_type\": \"\",\n        \"description\": \"\"\n      }\n    },\n    {\n      \"column\": \"Release Date\",\n      \"properties\": {\n        \"dtype\": \"object\",\n        \"num_unique_values\": 102,\n        \"samples\": [\n          \"01-Mar-13\",\n          \"28-Jun-13\",\n          \"07-Jun-13\"\n        ],\n        \"semantic_type\": \"\",\n        \"description\": \"\"\n      }\n    },\n    {\n      \"column\": \"MovieName\",\n      \"properties\": {\n        \"dtype\": \"string\",\n        \"num_unique_values\": 149,\n        \"samples\": [\n          \"Raja Natwarlal\",\n          \"Finding Fanny\",\n          \"Madras Cafe\"\n        ],\n        \"semantic_type\": \"\",\n        \"description\": \"\"\n      }\n    },\n    {\n      \"column\": \"ReleaseTime\",\n      \"properties\": {\n        \"dtype\": \"category\",\n        \"num_unique_values\": 4,\n        \"samples\": [\n          \"N\",\n          \"FS\",\n          \"LW\"\n        ],\n        \"semantic_type\": \"\",\n        \"description\": \"\"\n      }\n    },\n    {\n      \"column\": \"Genre\",\n      \"properties\": {\n        \"dtype\": \"category\",\n        \"num_unique_values\": 7,\n        \"samples\": [\n          \"Romance\",\n          \"Thriller \",\n          \"Action\"\n        ],\n        \"semantic_type\": \"\",\n        \"description\": \"\"\n      }\n    },\n    {\n      \"column\": \"Budget\",\n      \"properties\": {\n        \"dtype\": \"number\",\n        \"std\": 28,\n        \"min\": 2,\n        \"max\": 150,\n        \"num_unique_values\": 49,\n        \"samples\": [\n          15,\n          23,\n          32\n        ],\n        \"semantic_type\": \"\",\n        \"description\": \"\"\n      }\n    },\n    {\n      \"column\": \"BoxOfficeCollection\",\n      \"properties\": {\n        \"dtype\": \"number\",\n        \"std\": 94.4945311649294,\n        \"min\": 0.01,\n        \"max\": 735.0,\n        \"num_unique_values\": 118,\n        \"samples\": [\n          3.0,\n          5.9,\n          10.8\n        ],\n        \"semantic_type\": \"\",\n        \"description\": \"\"\n      }\n    },\n    {\n      \"column\": \"YoutubeViews\",\n      \"properties\": {\n        \"dtype\": \"number\",\n        \"std\": 3504406,\n        \"min\": 4354,\n        \"max\": 23171067,\n        \"num_unique_values\": 149,\n        \"samples\": [\n          4050407,\n          6144142,\n          1709945\n        ],\n        \"semantic_type\": \"\",\n        \"description\": \"\"\n      }\n    },\n    {\n      \"column\": \"YoutubeLikes\",\n      \"properties\": {\n        \"dtype\": \"number\",\n        \"std\": 12748,\n        \"min\": 1,\n        \"max\": 101275,\n        \"num_unique_values\": 146,\n        \"samples\": [\n          1226,\n          3512,\n          10609\n        ],\n        \"semantic_type\": \"\",\n        \"description\": \"\"\n      }\n    },\n    {\n      \"column\": \"YoutubeDislikes\",\n      \"properties\": {\n        \"dtype\": \"number\",\n        \"std\": 1852,\n        \"min\": 1,\n        \"max\": 11888,\n        \"num_unique_values\": 145,\n        \"samples\": [\n          964,\n          615,\n          788\n        ],\n        \"semantic_type\": \"\",\n        \"description\": \"\"\n      }\n    },\n    {\n      \"column\": \"BudgetBin\",\n      \"properties\": {\n        \"dtype\": \"category\",\n        \"num_unique_values\": 3,\n        \"samples\": [\n          \"High Budget\",\n          \"Low Budget\",\n          \"Medium Budget\"\n        ],\n        \"semantic_type\": \"\",\n        \"description\": \"\"\n      }\n    }\n  ]\n}",
       "type": "dataframe",
       "variable_name": "df"
      },
      "text/html": [
       "\n",
       "  <div id=\"df-8346478a-6d36-4ee7-bce1-00b8e6b80dc0\" class=\"colab-df-container\">\n",
       "    <div>\n",
       "<style scoped>\n",
       "    .dataframe tbody tr th:only-of-type {\n",
       "        vertical-align: middle;\n",
       "    }\n",
       "\n",
       "    .dataframe tbody tr th {\n",
       "        vertical-align: top;\n",
       "    }\n",
       "\n",
       "    .dataframe thead th {\n",
       "        text-align: right;\n",
       "    }\n",
       "</style>\n",
       "<table border=\"1\" class=\"dataframe\">\n",
       "  <thead>\n",
       "    <tr style=\"text-align: right;\">\n",
       "      <th></th>\n",
       "      <th>SlNo</th>\n",
       "      <th>Release Date</th>\n",
       "      <th>MovieName</th>\n",
       "      <th>ReleaseTime</th>\n",
       "      <th>Genre</th>\n",
       "      <th>Budget</th>\n",
       "      <th>BoxOfficeCollection</th>\n",
       "      <th>YoutubeViews</th>\n",
       "      <th>YoutubeLikes</th>\n",
       "      <th>YoutubeDislikes</th>\n",
       "      <th>BudgetBin</th>\n",
       "    </tr>\n",
       "  </thead>\n",
       "  <tbody>\n",
       "    <tr>\n",
       "      <th>0</th>\n",
       "      <td>1</td>\n",
       "      <td>18-Apr-14</td>\n",
       "      <td>2 States</td>\n",
       "      <td>LW</td>\n",
       "      <td>Romance</td>\n",
       "      <td>36</td>\n",
       "      <td>104.00</td>\n",
       "      <td>8576361</td>\n",
       "      <td>26622</td>\n",
       "      <td>2527</td>\n",
       "      <td>High Budget</td>\n",
       "    </tr>\n",
       "    <tr>\n",
       "      <th>1</th>\n",
       "      <td>2</td>\n",
       "      <td>04-Jan-13</td>\n",
       "      <td>Table No. 21</td>\n",
       "      <td>N</td>\n",
       "      <td>Thriller</td>\n",
       "      <td>10</td>\n",
       "      <td>12.00</td>\n",
       "      <td>1087320</td>\n",
       "      <td>1129</td>\n",
       "      <td>137</td>\n",
       "      <td>Low Budget</td>\n",
       "    </tr>\n",
       "    <tr>\n",
       "      <th>2</th>\n",
       "      <td>3</td>\n",
       "      <td>18-Jul-14</td>\n",
       "      <td>Amit Sahni Ki List</td>\n",
       "      <td>N</td>\n",
       "      <td>Comedy</td>\n",
       "      <td>10</td>\n",
       "      <td>4.00</td>\n",
       "      <td>572336</td>\n",
       "      <td>586</td>\n",
       "      <td>54</td>\n",
       "      <td>Low Budget</td>\n",
       "    </tr>\n",
       "    <tr>\n",
       "      <th>3</th>\n",
       "      <td>4</td>\n",
       "      <td>04-Jan-13</td>\n",
       "      <td>Rajdhani Express</td>\n",
       "      <td>N</td>\n",
       "      <td>Drama</td>\n",
       "      <td>7</td>\n",
       "      <td>0.35</td>\n",
       "      <td>42626</td>\n",
       "      <td>86</td>\n",
       "      <td>19</td>\n",
       "      <td>Low Budget</td>\n",
       "    </tr>\n",
       "    <tr>\n",
       "      <th>4</th>\n",
       "      <td>5</td>\n",
       "      <td>04-Jul-14</td>\n",
       "      <td>Bobby Jasoos</td>\n",
       "      <td>N</td>\n",
       "      <td>Comedy</td>\n",
       "      <td>18</td>\n",
       "      <td>10.80</td>\n",
       "      <td>3113427</td>\n",
       "      <td>4512</td>\n",
       "      <td>1224</td>\n",
       "      <td>Medium Budget</td>\n",
       "    </tr>\n",
       "    <tr>\n",
       "      <th>5</th>\n",
       "      <td>6</td>\n",
       "      <td>30-May-14</td>\n",
       "      <td>Citylights</td>\n",
       "      <td>HS</td>\n",
       "      <td>Drama</td>\n",
       "      <td>7</td>\n",
       "      <td>35.00</td>\n",
       "      <td>1076591</td>\n",
       "      <td>1806</td>\n",
       "      <td>84</td>\n",
       "      <td>Low Budget</td>\n",
       "    </tr>\n",
       "    <tr>\n",
       "      <th>6</th>\n",
       "      <td>7</td>\n",
       "      <td>19-Sep-14</td>\n",
       "      <td>Daawat-E-Ishq</td>\n",
       "      <td>N</td>\n",
       "      <td>Comedy</td>\n",
       "      <td>30</td>\n",
       "      <td>24.60</td>\n",
       "      <td>3905050</td>\n",
       "      <td>8315</td>\n",
       "      <td>1373</td>\n",
       "      <td>High Budget</td>\n",
       "    </tr>\n",
       "    <tr>\n",
       "      <th>7</th>\n",
       "      <td>8</td>\n",
       "      <td>11-Jan-13</td>\n",
       "      <td>Matru Ki Bijlee Ka Mandola</td>\n",
       "      <td>N</td>\n",
       "      <td>Comedy</td>\n",
       "      <td>33</td>\n",
       "      <td>40.00</td>\n",
       "      <td>2435283</td>\n",
       "      <td>4326</td>\n",
       "      <td>647</td>\n",
       "      <td>High Budget</td>\n",
       "    </tr>\n",
       "    <tr>\n",
       "      <th>8</th>\n",
       "      <td>9</td>\n",
       "      <td>10-Jan-14</td>\n",
       "      <td>Dedh Ishqiya</td>\n",
       "      <td>LW</td>\n",
       "      <td>Comedy</td>\n",
       "      <td>31</td>\n",
       "      <td>27.00</td>\n",
       "      <td>2333067</td>\n",
       "      <td>2436</td>\n",
       "      <td>591</td>\n",
       "      <td>High Budget</td>\n",
       "    </tr>\n",
       "    <tr>\n",
       "      <th>9</th>\n",
       "      <td>10</td>\n",
       "      <td>11-Jan-13</td>\n",
       "      <td>Gangoobai</td>\n",
       "      <td>N</td>\n",
       "      <td>Drama</td>\n",
       "      <td>2</td>\n",
       "      <td>0.01</td>\n",
       "      <td>4354</td>\n",
       "      <td>1</td>\n",
       "      <td>1</td>\n",
       "      <td>Low Budget</td>\n",
       "    </tr>\n",
       "  </tbody>\n",
       "</table>\n",
       "</div>\n",
       "    <div class=\"colab-df-buttons\">\n",
       "\n",
       "  <div class=\"colab-df-container\">\n",
       "    <button class=\"colab-df-convert\" onclick=\"convertToInteractive('df-8346478a-6d36-4ee7-bce1-00b8e6b80dc0')\"\n",
       "            title=\"Convert this dataframe to an interactive table.\"\n",
       "            style=\"display:none;\">\n",
       "\n",
       "  <svg xmlns=\"http://www.w3.org/2000/svg\" height=\"24px\" viewBox=\"0 -960 960 960\">\n",
       "    <path d=\"M120-120v-720h720v720H120Zm60-500h600v-160H180v160Zm220 220h160v-160H400v160Zm0 220h160v-160H400v160ZM180-400h160v-160H180v160Zm440 0h160v-160H620v160ZM180-180h160v-160H180v160Zm440 0h160v-160H620v160Z\"/>\n",
       "  </svg>\n",
       "    </button>\n",
       "\n",
       "  <style>\n",
       "    .colab-df-container {\n",
       "      display:flex;\n",
       "      gap: 12px;\n",
       "    }\n",
       "\n",
       "    .colab-df-convert {\n",
       "      background-color: #E8F0FE;\n",
       "      border: none;\n",
       "      border-radius: 50%;\n",
       "      cursor: pointer;\n",
       "      display: none;\n",
       "      fill: #1967D2;\n",
       "      height: 32px;\n",
       "      padding: 0 0 0 0;\n",
       "      width: 32px;\n",
       "    }\n",
       "\n",
       "    .colab-df-convert:hover {\n",
       "      background-color: #E2EBFA;\n",
       "      box-shadow: 0px 1px 2px rgba(60, 64, 67, 0.3), 0px 1px 3px 1px rgba(60, 64, 67, 0.15);\n",
       "      fill: #174EA6;\n",
       "    }\n",
       "\n",
       "    .colab-df-buttons div {\n",
       "      margin-bottom: 4px;\n",
       "    }\n",
       "\n",
       "    [theme=dark] .colab-df-convert {\n",
       "      background-color: #3B4455;\n",
       "      fill: #D2E3FC;\n",
       "    }\n",
       "\n",
       "    [theme=dark] .colab-df-convert:hover {\n",
       "      background-color: #434B5C;\n",
       "      box-shadow: 0px 1px 3px 1px rgba(0, 0, 0, 0.15);\n",
       "      filter: drop-shadow(0px 1px 2px rgba(0, 0, 0, 0.3));\n",
       "      fill: #FFFFFF;\n",
       "    }\n",
       "  </style>\n",
       "\n",
       "    <script>\n",
       "      const buttonEl =\n",
       "        document.querySelector('#df-8346478a-6d36-4ee7-bce1-00b8e6b80dc0 button.colab-df-convert');\n",
       "      buttonEl.style.display =\n",
       "        google.colab.kernel.accessAllowed ? 'block' : 'none';\n",
       "\n",
       "      async function convertToInteractive(key) {\n",
       "        const element = document.querySelector('#df-8346478a-6d36-4ee7-bce1-00b8e6b80dc0');\n",
       "        const dataTable =\n",
       "          await google.colab.kernel.invokeFunction('convertToInteractive',\n",
       "                                                    [key], {});\n",
       "        if (!dataTable) return;\n",
       "\n",
       "        const docLinkHtml = 'Like what you see? Visit the ' +\n",
       "          '<a target=\"_blank\" href=https://colab.research.google.com/notebooks/data_table.ipynb>data table notebook</a>'\n",
       "          + ' to learn more about interactive tables.';\n",
       "        element.innerHTML = '';\n",
       "        dataTable['output_type'] = 'display_data';\n",
       "        await google.colab.output.renderOutput(dataTable, element);\n",
       "        const docLink = document.createElement('div');\n",
       "        docLink.innerHTML = docLinkHtml;\n",
       "        element.appendChild(docLink);\n",
       "      }\n",
       "    </script>\n",
       "  </div>\n",
       "\n",
       "\n",
       "<div id=\"df-606c6829-3a0e-491e-b193-eb2432df0794\">\n",
       "  <button class=\"colab-df-quickchart\" onclick=\"quickchart('df-606c6829-3a0e-491e-b193-eb2432df0794')\"\n",
       "            title=\"Suggest charts\"\n",
       "            style=\"display:none;\">\n",
       "\n",
       "<svg xmlns=\"http://www.w3.org/2000/svg\" height=\"24px\"viewBox=\"0 0 24 24\"\n",
       "     width=\"24px\">\n",
       "    <g>\n",
       "        <path d=\"M19 3H5c-1.1 0-2 .9-2 2v14c0 1.1.9 2 2 2h14c1.1 0 2-.9 2-2V5c0-1.1-.9-2-2-2zM9 17H7v-7h2v7zm4 0h-2V7h2v10zm4 0h-2v-4h2v4z\"/>\n",
       "    </g>\n",
       "</svg>\n",
       "  </button>\n",
       "\n",
       "<style>\n",
       "  .colab-df-quickchart {\n",
       "      --bg-color: #E8F0FE;\n",
       "      --fill-color: #1967D2;\n",
       "      --hover-bg-color: #E2EBFA;\n",
       "      --hover-fill-color: #174EA6;\n",
       "      --disabled-fill-color: #AAA;\n",
       "      --disabled-bg-color: #DDD;\n",
       "  }\n",
       "\n",
       "  [theme=dark] .colab-df-quickchart {\n",
       "      --bg-color: #3B4455;\n",
       "      --fill-color: #D2E3FC;\n",
       "      --hover-bg-color: #434B5C;\n",
       "      --hover-fill-color: #FFFFFF;\n",
       "      --disabled-bg-color: #3B4455;\n",
       "      --disabled-fill-color: #666;\n",
       "  }\n",
       "\n",
       "  .colab-df-quickchart {\n",
       "    background-color: var(--bg-color);\n",
       "    border: none;\n",
       "    border-radius: 50%;\n",
       "    cursor: pointer;\n",
       "    display: none;\n",
       "    fill: var(--fill-color);\n",
       "    height: 32px;\n",
       "    padding: 0;\n",
       "    width: 32px;\n",
       "  }\n",
       "\n",
       "  .colab-df-quickchart:hover {\n",
       "    background-color: var(--hover-bg-color);\n",
       "    box-shadow: 0 1px 2px rgba(60, 64, 67, 0.3), 0 1px 3px 1px rgba(60, 64, 67, 0.15);\n",
       "    fill: var(--button-hover-fill-color);\n",
       "  }\n",
       "\n",
       "  .colab-df-quickchart-complete:disabled,\n",
       "  .colab-df-quickchart-complete:disabled:hover {\n",
       "    background-color: var(--disabled-bg-color);\n",
       "    fill: var(--disabled-fill-color);\n",
       "    box-shadow: none;\n",
       "  }\n",
       "\n",
       "  .colab-df-spinner {\n",
       "    border: 2px solid var(--fill-color);\n",
       "    border-color: transparent;\n",
       "    border-bottom-color: var(--fill-color);\n",
       "    animation:\n",
       "      spin 1s steps(1) infinite;\n",
       "  }\n",
       "\n",
       "  @keyframes spin {\n",
       "    0% {\n",
       "      border-color: transparent;\n",
       "      border-bottom-color: var(--fill-color);\n",
       "      border-left-color: var(--fill-color);\n",
       "    }\n",
       "    20% {\n",
       "      border-color: transparent;\n",
       "      border-left-color: var(--fill-color);\n",
       "      border-top-color: var(--fill-color);\n",
       "    }\n",
       "    30% {\n",
       "      border-color: transparent;\n",
       "      border-left-color: var(--fill-color);\n",
       "      border-top-color: var(--fill-color);\n",
       "      border-right-color: var(--fill-color);\n",
       "    }\n",
       "    40% {\n",
       "      border-color: transparent;\n",
       "      border-right-color: var(--fill-color);\n",
       "      border-top-color: var(--fill-color);\n",
       "    }\n",
       "    60% {\n",
       "      border-color: transparent;\n",
       "      border-right-color: var(--fill-color);\n",
       "    }\n",
       "    80% {\n",
       "      border-color: transparent;\n",
       "      border-right-color: var(--fill-color);\n",
       "      border-bottom-color: var(--fill-color);\n",
       "    }\n",
       "    90% {\n",
       "      border-color: transparent;\n",
       "      border-bottom-color: var(--fill-color);\n",
       "    }\n",
       "  }\n",
       "</style>\n",
       "\n",
       "  <script>\n",
       "    async function quickchart(key) {\n",
       "      const quickchartButtonEl =\n",
       "        document.querySelector('#' + key + ' button');\n",
       "      quickchartButtonEl.disabled = true;  // To prevent multiple clicks.\n",
       "      quickchartButtonEl.classList.add('colab-df-spinner');\n",
       "      try {\n",
       "        const charts = await google.colab.kernel.invokeFunction(\n",
       "            'suggestCharts', [key], {});\n",
       "      } catch (error) {\n",
       "        console.error('Error during call to suggestCharts:', error);\n",
       "      }\n",
       "      quickchartButtonEl.classList.remove('colab-df-spinner');\n",
       "      quickchartButtonEl.classList.add('colab-df-quickchart-complete');\n",
       "    }\n",
       "    (() => {\n",
       "      let quickchartButtonEl =\n",
       "        document.querySelector('#df-606c6829-3a0e-491e-b193-eb2432df0794 button');\n",
       "      quickchartButtonEl.style.display =\n",
       "        google.colab.kernel.accessAllowed ? 'block' : 'none';\n",
       "    })();\n",
       "  </script>\n",
       "</div>\n",
       "\n",
       "    </div>\n",
       "  </div>\n"
      ],
      "text/plain": [
       "   SlNo Release Date                   MovieName ReleaseTime      Genre  \\\n",
       "0     1    18-Apr-14                    2 States          LW    Romance   \n",
       "1     2    04-Jan-13                Table No. 21           N  Thriller    \n",
       "2     3    18-Jul-14          Amit Sahni Ki List           N     Comedy   \n",
       "3     4    04-Jan-13            Rajdhani Express           N     Drama    \n",
       "4     5    04-Jul-14                Bobby Jasoos           N     Comedy   \n",
       "5     6    30-May-14                  Citylights          HS     Drama    \n",
       "6     7    19-Sep-14               Daawat-E-Ishq           N     Comedy   \n",
       "7     8    11-Jan-13  Matru Ki Bijlee Ka Mandola           N     Comedy   \n",
       "8     9    10-Jan-14                Dedh Ishqiya          LW     Comedy   \n",
       "9    10    11-Jan-13                   Gangoobai           N     Drama    \n",
       "\n",
       "   Budget  BoxOfficeCollection  YoutubeViews  YoutubeLikes  YoutubeDislikes  \\\n",
       "0      36               104.00       8576361         26622             2527   \n",
       "1      10                12.00       1087320          1129              137   \n",
       "2      10                 4.00        572336           586               54   \n",
       "3       7                 0.35         42626            86               19   \n",
       "4      18                10.80       3113427          4512             1224   \n",
       "5       7                35.00       1076591          1806               84   \n",
       "6      30                24.60       3905050          8315             1373   \n",
       "7      33                40.00       2435283          4326              647   \n",
       "8      31                27.00       2333067          2436              591   \n",
       "9       2                 0.01          4354             1                1   \n",
       "\n",
       "       BudgetBin  \n",
       "0    High Budget  \n",
       "1     Low Budget  \n",
       "2     Low Budget  \n",
       "3     Low Budget  \n",
       "4  Medium Budget  \n",
       "5     Low Budget  \n",
       "6    High Budget  \n",
       "7    High Budget  \n",
       "8    High Budget  \n",
       "9     Low Budget  "
      ]
     },
     "execution_count": 29,
     "metadata": {},
     "output_type": "execute_result"
    }
   ],
   "source": [
    "df.head(10)"
   ]
  },
  {
   "cell_type": "code",
   "execution_count": null,
   "id": "ba61a272",
   "metadata": {
    "colab": {
     "base_uri": "https://localhost:8080/",
     "height": 607
    },
    "executionInfo": {
     "elapsed": 727,
     "status": "ok",
     "timestamp": 1720632624595,
     "user": {
      "displayName": "Manju Sreekumar",
      "userId": "15739172059804483042"
     },
     "user_tz": -330
    },
    "id": "ba61a272",
    "outputId": "93e6d542-0f2d-4871-bf57-6d71358f68db"
   },
   "outputs": [
    {
     "data": {
      "image/png": "[encoded data removed]",
      "text/plain": [
       "<Figure size 800x600 with 1 Axes>"
      ]
     },
     "metadata": {},
     "output_type": "display_data"
    }
   ],
   "source": [
    "\n",
    "import matplotlib.pyplot as plt\n",
    "budget_bin_counts = df['BudgetBin'].value_counts()\n",
    "\n",
    "# Plot the data as a bar chart\n",
    "plt.figure(figsize=(8, 6))\n",
    "budget_bin_counts.plot(kind='bar', color='skyblue')\n",
    "plt.title('Number of Movies in Each Budget Bin')\n",
    "plt.xlabel('Budget Bin')\n",
    "plt.ylabel('Number of Movies')\n",
    "plt.xticks(rotation=45)  # Rotate x-axis labels for better readability\n",
    "plt.tight_layout()\n",
    "plt.show()\n"
   ]
  },
  {
   "cell_type": "code",
   "execution_count": null,
   "id": "a40c298a",
   "metadata": {
    "colab": {
     "base_uri": "https://localhost:8080/",
     "height": 363
    },
    "executionInfo": {
     "elapsed": 516,
     "status": "ok",
     "timestamp": 1720632630897,
     "user": {
      "displayName": "Manju Sreekumar",
      "userId": "15739172059804483042"
     },
     "user_tz": -330
    },
    "id": "a40c298a",
    "outputId": "008e5833-4c00-41e6-e777-e135990d82d7"
   },
   "outputs": [
    {
     "data": {
      "application/vnd.google.colaboratory.intrinsic+json": {
       "summary": "{\n  \"name\": \"df\",\n  \"rows\": 149,\n  \"fields\": [\n    {\n      \"column\": \"SlNo\",\n      \"properties\": {\n        \"dtype\": \"number\",\n        \"std\": 43,\n        \"min\": 1,\n        \"max\": 149,\n        \"num_unique_values\": 149,\n        \"samples\": [\n          74,\n          19,\n          118\n        ],\n        \"semantic_type\": \"\",\n        \"description\": \"\"\n      }\n    },\n    {\n      \"column\": \"Release Date\",\n      \"properties\": {\n        \"dtype\": \"object\",\n        \"num_unique_values\": 102,\n        \"samples\": [\n          \"01-Mar-13\",\n          \"28-Jun-13\",\n          \"07-Jun-13\"\n        ],\n        \"semantic_type\": \"\",\n        \"description\": \"\"\n      }\n    },\n    {\n      \"column\": \"MovieName\",\n      \"properties\": {\n        \"dtype\": \"string\",\n        \"num_unique_values\": 149,\n        \"samples\": [\n          \"Raja Natwarlal\",\n          \"Finding Fanny\",\n          \"Madras Cafe\"\n        ],\n        \"semantic_type\": \"\",\n        \"description\": \"\"\n      }\n    },\n    {\n      \"column\": \"ReleaseTime\",\n      \"properties\": {\n        \"dtype\": \"category\",\n        \"num_unique_values\": 4,\n        \"samples\": [\n          \"N\",\n          \"FS\",\n          \"LW\"\n        ],\n        \"semantic_type\": \"\",\n        \"description\": \"\"\n      }\n    },\n    {\n      \"column\": \"Genre\",\n      \"properties\": {\n        \"dtype\": \"category\",\n        \"num_unique_values\": 7,\n        \"samples\": [\n          \"Romance\",\n          \"Thriller \",\n          \"Action\"\n        ],\n        \"semantic_type\": \"\",\n        \"description\": \"\"\n      }\n    },\n    {\n      \"column\": \"Budget\",\n      \"properties\": {\n        \"dtype\": \"number\",\n        \"std\": 28,\n        \"min\": 2,\n        \"max\": 150,\n        \"num_unique_values\": 49,\n        \"samples\": [\n          15,\n          23,\n          32\n        ],\n        \"semantic_type\": \"\",\n        \"description\": \"\"\n      }\n    },\n    {\n      \"column\": \"BoxOfficeCollection\",\n      \"properties\": {\n        \"dtype\": \"number\",\n        \"std\": 94.4945311649294,\n        \"min\": 0.01,\n        \"max\": 735.0,\n        \"num_unique_values\": 118,\n        \"samples\": [\n          3.0,\n          5.9,\n          10.8\n        ],\n        \"semantic_type\": \"\",\n        \"description\": \"\"\n      }\n    },\n    {\n      \"column\": \"YoutubeViews\",\n      \"properties\": {\n        \"dtype\": \"number\",\n        \"std\": 3504406,\n        \"min\": 4354,\n        \"max\": 23171067,\n        \"num_unique_values\": 149,\n        \"samples\": [\n          4050407,\n          6144142,\n          1709945\n        ],\n        \"semantic_type\": \"\",\n        \"description\": \"\"\n      }\n    },\n    {\n      \"column\": \"YoutubeLikes\",\n      \"properties\": {\n        \"dtype\": \"number\",\n        \"std\": 12748,\n        \"min\": 1,\n        \"max\": 101275,\n        \"num_unique_values\": 146,\n        \"samples\": [\n          1226,\n          3512,\n          10609\n        ],\n        \"semantic_type\": \"\",\n        \"description\": \"\"\n      }\n    },\n    {\n      \"column\": \"YoutubeDislikes\",\n      \"properties\": {\n        \"dtype\": \"number\",\n        \"std\": 1852,\n        \"min\": 1,\n        \"max\": 11888,\n        \"num_unique_values\": 145,\n        \"samples\": [\n          964,\n          615,\n          788\n        ],\n        \"semantic_type\": \"\",\n        \"description\": \"\"\n      }\n    },\n    {\n      \"column\": \"BudgetBin\",\n      \"properties\": {\n        \"dtype\": \"category\",\n        \"num_unique_values\": 3,\n        \"samples\": [\n          \"High Budget\",\n          \"Low Budget\",\n          \"Medium Budget\"\n        ],\n        \"semantic_type\": \"\",\n        \"description\": \"\"\n      }\n    },\n    {\n      \"column\": \"CollectionBin\",\n      \"properties\": {\n        \"dtype\": \"category\",\n        \"num_unique_values\": 4,\n        \"samples\": [\n          \"Low Collection\",\n          \"High Collection\",\n          \"Very High Collection\"\n        ],\n        \"semantic_type\": \"\",\n        \"description\": \"\"\n      }\n    }\n  ]\n}",
       "type": "dataframe",
       "variable_name": "df"
      },
      "text/html": [
       "\n",
       "  <div id=\"df-17eec34f-baeb-4525-8f9c-78c6a6608530\" class=\"colab-df-container\">\n",
       "    <div>\n",
       "<style scoped>\n",
       "    .dataframe tbody tr th:only-of-type {\n",
       "        vertical-align: middle;\n",
       "    }\n",
       "\n",
       "    .dataframe tbody tr th {\n",
       "        vertical-align: top;\n",
       "    }\n",
       "\n",
       "    .dataframe thead th {\n",
       "        text-align: right;\n",
       "    }\n",
       "</style>\n",
       "<table border=\"1\" class=\"dataframe\">\n",
       "  <thead>\n",
       "    <tr style=\"text-align: right;\">\n",
       "      <th></th>\n",
       "      <th>SlNo</th>\n",
       "      <th>Release Date</th>\n",
       "      <th>MovieName</th>\n",
       "      <th>ReleaseTime</th>\n",
       "      <th>Genre</th>\n",
       "      <th>Budget</th>\n",
       "      <th>BoxOfficeCollection</th>\n",
       "      <th>YoutubeViews</th>\n",
       "      <th>YoutubeLikes</th>\n",
       "      <th>YoutubeDislikes</th>\n",
       "      <th>BudgetBin</th>\n",
       "      <th>CollectionBin</th>\n",
       "    </tr>\n",
       "  </thead>\n",
       "  <tbody>\n",
       "    <tr>\n",
       "      <th>0</th>\n",
       "      <td>1</td>\n",
       "      <td>18-Apr-14</td>\n",
       "      <td>2 States</td>\n",
       "      <td>LW</td>\n",
       "      <td>Romance</td>\n",
       "      <td>36</td>\n",
       "      <td>104.00</td>\n",
       "      <td>8576361</td>\n",
       "      <td>26622</td>\n",
       "      <td>2527</td>\n",
       "      <td>High Budget</td>\n",
       "      <td>Very High Collection</td>\n",
       "    </tr>\n",
       "    <tr>\n",
       "      <th>1</th>\n",
       "      <td>2</td>\n",
       "      <td>04-Jan-13</td>\n",
       "      <td>Table No. 21</td>\n",
       "      <td>N</td>\n",
       "      <td>Thriller</td>\n",
       "      <td>10</td>\n",
       "      <td>12.00</td>\n",
       "      <td>1087320</td>\n",
       "      <td>1129</td>\n",
       "      <td>137</td>\n",
       "      <td>Low Budget</td>\n",
       "      <td>Low Collection</td>\n",
       "    </tr>\n",
       "    <tr>\n",
       "      <th>2</th>\n",
       "      <td>3</td>\n",
       "      <td>18-Jul-14</td>\n",
       "      <td>Amit Sahni Ki List</td>\n",
       "      <td>N</td>\n",
       "      <td>Comedy</td>\n",
       "      <td>10</td>\n",
       "      <td>4.00</td>\n",
       "      <td>572336</td>\n",
       "      <td>586</td>\n",
       "      <td>54</td>\n",
       "      <td>Low Budget</td>\n",
       "      <td>Low Collection</td>\n",
       "    </tr>\n",
       "    <tr>\n",
       "      <th>3</th>\n",
       "      <td>4</td>\n",
       "      <td>04-Jan-13</td>\n",
       "      <td>Rajdhani Express</td>\n",
       "      <td>N</td>\n",
       "      <td>Drama</td>\n",
       "      <td>7</td>\n",
       "      <td>0.35</td>\n",
       "      <td>42626</td>\n",
       "      <td>86</td>\n",
       "      <td>19</td>\n",
       "      <td>Low Budget</td>\n",
       "      <td>Low Collection</td>\n",
       "    </tr>\n",
       "    <tr>\n",
       "      <th>4</th>\n",
       "      <td>5</td>\n",
       "      <td>04-Jul-14</td>\n",
       "      <td>Bobby Jasoos</td>\n",
       "      <td>N</td>\n",
       "      <td>Comedy</td>\n",
       "      <td>18</td>\n",
       "      <td>10.80</td>\n",
       "      <td>3113427</td>\n",
       "      <td>4512</td>\n",
       "      <td>1224</td>\n",
       "      <td>Medium Budget</td>\n",
       "      <td>Low Collection</td>\n",
       "    </tr>\n",
       "    <tr>\n",
       "      <th>5</th>\n",
       "      <td>6</td>\n",
       "      <td>30-May-14</td>\n",
       "      <td>Citylights</td>\n",
       "      <td>HS</td>\n",
       "      <td>Drama</td>\n",
       "      <td>7</td>\n",
       "      <td>35.00</td>\n",
       "      <td>1076591</td>\n",
       "      <td>1806</td>\n",
       "      <td>84</td>\n",
       "      <td>Low Budget</td>\n",
       "      <td>Medium Collection</td>\n",
       "    </tr>\n",
       "    <tr>\n",
       "      <th>6</th>\n",
       "      <td>7</td>\n",
       "      <td>19-Sep-14</td>\n",
       "      <td>Daawat-E-Ishq</td>\n",
       "      <td>N</td>\n",
       "      <td>Comedy</td>\n",
       "      <td>30</td>\n",
       "      <td>24.60</td>\n",
       "      <td>3905050</td>\n",
       "      <td>8315</td>\n",
       "      <td>1373</td>\n",
       "      <td>High Budget</td>\n",
       "      <td>Medium Collection</td>\n",
       "    </tr>\n",
       "    <tr>\n",
       "      <th>7</th>\n",
       "      <td>8</td>\n",
       "      <td>11-Jan-13</td>\n",
       "      <td>Matru Ki Bijlee Ka Mandola</td>\n",
       "      <td>N</td>\n",
       "      <td>Comedy</td>\n",
       "      <td>33</td>\n",
       "      <td>40.00</td>\n",
       "      <td>2435283</td>\n",
       "      <td>4326</td>\n",
       "      <td>647</td>\n",
       "      <td>High Budget</td>\n",
       "      <td>Medium Collection</td>\n",
       "    </tr>\n",
       "    <tr>\n",
       "      <th>8</th>\n",
       "      <td>9</td>\n",
       "      <td>10-Jan-14</td>\n",
       "      <td>Dedh Ishqiya</td>\n",
       "      <td>LW</td>\n",
       "      <td>Comedy</td>\n",
       "      <td>31</td>\n",
       "      <td>27.00</td>\n",
       "      <td>2333067</td>\n",
       "      <td>2436</td>\n",
       "      <td>591</td>\n",
       "      <td>High Budget</td>\n",
       "      <td>Medium Collection</td>\n",
       "    </tr>\n",
       "    <tr>\n",
       "      <th>9</th>\n",
       "      <td>10</td>\n",
       "      <td>11-Jan-13</td>\n",
       "      <td>Gangoobai</td>\n",
       "      <td>N</td>\n",
       "      <td>Drama</td>\n",
       "      <td>2</td>\n",
       "      <td>0.01</td>\n",
       "      <td>4354</td>\n",
       "      <td>1</td>\n",
       "      <td>1</td>\n",
       "      <td>Low Budget</td>\n",
       "      <td>Low Collection</td>\n",
       "    </tr>\n",
       "  </tbody>\n",
       "</table>\n",
       "</div>\n",
       "    <div class=\"colab-df-buttons\">\n",
       "\n",
       "  <div class=\"colab-df-container\">\n",
       "    <button class=\"colab-df-convert\" onclick=\"convertToInteractive('df-17eec34f-baeb-4525-8f9c-78c6a6608530')\"\n",
       "            title=\"Convert this dataframe to an interactive table.\"\n",
       "            style=\"display:none;\">\n",
       "\n",
       "  <svg xmlns=\"http://www.w3.org/2000/svg\" height=\"24px\" viewBox=\"0 -960 960 960\">\n",
       "    <path d=\"M120-120v-720h720v720H120Zm60-500h600v-160H180v160Zm220 220h160v-160H400v160Zm0 220h160v-160H400v160ZM180-400h160v-160H180v160Zm440 0h160v-160H620v160ZM180-180h160v-160H180v160Zm440 0h160v-160H620v160Z\"/>\n",
       "  </svg>\n",
       "    </button>\n",
       "\n",
       "  <style>\n",
       "    .colab-df-container {\n",
       "      display:flex;\n",
       "      gap: 12px;\n",
       "    }\n",
       "\n",
       "    .colab-df-convert {\n",
       "      background-color: #E8F0FE;\n",
       "      border: none;\n",
       "      border-radius: 50%;\n",
       "      cursor: pointer;\n",
       "      display: none;\n",
       "      fill: #1967D2;\n",
       "      height: 32px;\n",
       "      padding: 0 0 0 0;\n",
       "      width: 32px;\n",
       "    }\n",
       "\n",
       "    .colab-df-convert:hover {\n",
       "      background-color: #E2EBFA;\n",
       "      box-shadow: 0px 1px 2px rgba(60, 64, 67, 0.3), 0px 1px 3px 1px rgba(60, 64, 67, 0.15);\n",
       "      fill: #174EA6;\n",
       "    }\n",
       "\n",
       "    .colab-df-buttons div {\n",
       "      margin-bottom: 4px;\n",
       "    }\n",
       "\n",
       "    [theme=dark] .colab-df-convert {\n",
       "      background-color: #3B4455;\n",
       "      fill: #D2E3FC;\n",
       "    }\n",
       "\n",
       "    [theme=dark] .colab-df-convert:hover {\n",
       "      background-color: #434B5C;\n",
       "      box-shadow: 0px 1px 3px 1px rgba(0, 0, 0, 0.15);\n",
       "      filter: drop-shadow(0px 1px 2px rgba(0, 0, 0, 0.3));\n",
       "      fill: #FFFFFF;\n",
       "    }\n",
       "  </style>\n",
       "\n",
       "    <script>\n",
       "      const buttonEl =\n",
       "        document.querySelector('#df-17eec34f-baeb-4525-8f9c-78c6a6608530 button.colab-df-convert');\n",
       "      buttonEl.style.display =\n",
       "        google.colab.kernel.accessAllowed ? 'block' : 'none';\n",
       "\n",
       "      async function convertToInteractive(key) {\n",
       "        const element = document.querySelector('#df-17eec34f-baeb-4525-8f9c-78c6a6608530');\n",
       "        const dataTable =\n",
       "          await google.colab.kernel.invokeFunction('convertToInteractive',\n",
       "                                                    [key], {});\n",
       "        if (!dataTable) return;\n",
       "\n",
       "        const docLinkHtml = 'Like what you see? Visit the ' +\n",
       "          '<a target=\"_blank\" href=https://colab.research.google.com/notebooks/data_table.ipynb>data table notebook</a>'\n",
       "          + ' to learn more about interactive tables.';\n",
       "        element.innerHTML = '';\n",
       "        dataTable['output_type'] = 'display_data';\n",
       "        await google.colab.output.renderOutput(dataTable, element);\n",
       "        const docLink = document.createElement('div');\n",
       "        docLink.innerHTML = docLinkHtml;\n",
       "        element.appendChild(docLink);\n",
       "      }\n",
       "    </script>\n",
       "  </div>\n",
       "\n",
       "\n",
       "<div id=\"df-3717ea33-ed2c-4825-8bf5-f81e08507696\">\n",
       "  <button class=\"colab-df-quickchart\" onclick=\"quickchart('df-3717ea33-ed2c-4825-8bf5-f81e08507696')\"\n",
       "            title=\"Suggest charts\"\n",
       "            style=\"display:none;\">\n",
       "\n",
       "<svg xmlns=\"http://www.w3.org/2000/svg\" height=\"24px\"viewBox=\"0 0 24 24\"\n",
       "     width=\"24px\">\n",
       "    <g>\n",
       "        <path d=\"M19 3H5c-1.1 0-2 .9-2 2v14c0 1.1.9 2 2 2h14c1.1 0 2-.9 2-2V5c0-1.1-.9-2-2-2zM9 17H7v-7h2v7zm4 0h-2V7h2v10zm4 0h-2v-4h2v4z\"/>\n",
       "    </g>\n",
       "</svg>\n",
       "  </button>\n",
       "\n",
       "<style>\n",
       "  .colab-df-quickchart {\n",
       "      --bg-color: #E8F0FE;\n",
       "      --fill-color: #1967D2;\n",
       "      --hover-bg-color: #E2EBFA;\n",
       "      --hover-fill-color: #174EA6;\n",
       "      --disabled-fill-color: #AAA;\n",
       "      --disabled-bg-color: #DDD;\n",
       "  }\n",
       "\n",
       "  [theme=dark] .colab-df-quickchart {\n",
       "      --bg-color: #3B4455;\n",
       "      --fill-color: #D2E3FC;\n",
       "      --hover-bg-color: #434B5C;\n",
       "      --hover-fill-color: #FFFFFF;\n",
       "      --disabled-bg-color: #3B4455;\n",
       "      --disabled-fill-color: #666;\n",
       "  }\n",
       "\n",
       "  .colab-df-quickchart {\n",
       "    background-color: var(--bg-color);\n",
       "    border: none;\n",
       "    border-radius: 50%;\n",
       "    cursor: pointer;\n",
       "    display: none;\n",
       "    fill: var(--fill-color);\n",
       "    height: 32px;\n",
       "    padding: 0;\n",
       "    width: 32px;\n",
       "  }\n",
       "\n",
       "  .colab-df-quickchart:hover {\n",
       "    background-color: var(--hover-bg-color);\n",
       "    box-shadow: 0 1px 2px rgba(60, 64, 67, 0.3), 0 1px 3px 1px rgba(60, 64, 67, 0.15);\n",
       "    fill: var(--button-hover-fill-color);\n",
       "  }\n",
       "\n",
       "  .colab-df-quickchart-complete:disabled,\n",
       "  .colab-df-quickchart-complete:disabled:hover {\n",
       "    background-color: var(--disabled-bg-color);\n",
       "    fill: var(--disabled-fill-color);\n",
       "    box-shadow: none;\n",
       "  }\n",
       "\n",
       "  .colab-df-spinner {\n",
       "    border: 2px solid var(--fill-color);\n",
       "    border-color: transparent;\n",
       "    border-bottom-color: var(--fill-color);\n",
       "    animation:\n",
       "      spin 1s steps(1) infinite;\n",
       "  }\n",
       "\n",
       "  @keyframes spin {\n",
       "    0% {\n",
       "      border-color: transparent;\n",
       "      border-bottom-color: var(--fill-color);\n",
       "      border-left-color: var(--fill-color);\n",
       "    }\n",
       "    20% {\n",
       "      border-color: transparent;\n",
       "      border-left-color: var(--fill-color);\n",
       "      border-top-color: var(--fill-color);\n",
       "    }\n",
       "    30% {\n",
       "      border-color: transparent;\n",
       "      border-left-color: var(--fill-color);\n",
       "      border-top-color: var(--fill-color);\n",
       "      border-right-color: var(--fill-color);\n",
       "    }\n",
       "    40% {\n",
       "      border-color: transparent;\n",
       "      border-right-color: var(--fill-color);\n",
       "      border-top-color: var(--fill-color);\n",
       "    }\n",
       "    60% {\n",
       "      border-color: transparent;\n",
       "      border-right-color: var(--fill-color);\n",
       "    }\n",
       "    80% {\n",
       "      border-color: transparent;\n",
       "      border-right-color: var(--fill-color);\n",
       "      border-bottom-color: var(--fill-color);\n",
       "    }\n",
       "    90% {\n",
       "      border-color: transparent;\n",
       "      border-bottom-color: var(--fill-color);\n",
       "    }\n",
       "  }\n",
       "</style>\n",
       "\n",
       "  <script>\n",
       "    async function quickchart(key) {\n",
       "      const quickchartButtonEl =\n",
       "        document.querySelector('#' + key + ' button');\n",
       "      quickchartButtonEl.disabled = true;  // To prevent multiple clicks.\n",
       "      quickchartButtonEl.classList.add('colab-df-spinner');\n",
       "      try {\n",
       "        const charts = await google.colab.kernel.invokeFunction(\n",
       "            'suggestCharts', [key], {});\n",
       "      } catch (error) {\n",
       "        console.error('Error during call to suggestCharts:', error);\n",
       "      }\n",
       "      quickchartButtonEl.classList.remove('colab-df-spinner');\n",
       "      quickchartButtonEl.classList.add('colab-df-quickchart-complete');\n",
       "    }\n",
       "    (() => {\n",
       "      let quickchartButtonEl =\n",
       "        document.querySelector('#df-3717ea33-ed2c-4825-8bf5-f81e08507696 button');\n",
       "      quickchartButtonEl.style.display =\n",
       "        google.colab.kernel.accessAllowed ? 'block' : 'none';\n",
       "    })();\n",
       "  </script>\n",
       "</div>\n",
       "\n",
       "    </div>\n",
       "  </div>\n"
      ],
      "text/plain": [
       "   SlNo Release Date                   MovieName ReleaseTime      Genre  \\\n",
       "0     1    18-Apr-14                    2 States          LW    Romance   \n",
       "1     2    04-Jan-13                Table No. 21           N  Thriller    \n",
       "2     3    18-Jul-14          Amit Sahni Ki List           N     Comedy   \n",
       "3     4    04-Jan-13            Rajdhani Express           N     Drama    \n",
       "4     5    04-Jul-14                Bobby Jasoos           N     Comedy   \n",
       "5     6    30-May-14                  Citylights          HS     Drama    \n",
       "6     7    19-Sep-14               Daawat-E-Ishq           N     Comedy   \n",
       "7     8    11-Jan-13  Matru Ki Bijlee Ka Mandola           N     Comedy   \n",
       "8     9    10-Jan-14                Dedh Ishqiya          LW     Comedy   \n",
       "9    10    11-Jan-13                   Gangoobai           N     Drama    \n",
       "\n",
       "   Budget  BoxOfficeCollection  YoutubeViews  YoutubeLikes  YoutubeDislikes  \\\n",
       "0      36               104.00       8576361         26622             2527   \n",
       "1      10                12.00       1087320          1129              137   \n",
       "2      10                 4.00        572336           586               54   \n",
       "3       7                 0.35         42626            86               19   \n",
       "4      18                10.80       3113427          4512             1224   \n",
       "5       7                35.00       1076591          1806               84   \n",
       "6      30                24.60       3905050          8315             1373   \n",
       "7      33                40.00       2435283          4326              647   \n",
       "8      31                27.00       2333067          2436              591   \n",
       "9       2                 0.01          4354             1                1   \n",
       "\n",
       "       BudgetBin         CollectionBin  \n",
       "0    High Budget  Very High Collection  \n",
       "1     Low Budget        Low Collection  \n",
       "2     Low Budget        Low Collection  \n",
       "3     Low Budget        Low Collection  \n",
       "4  Medium Budget        Low Collection  \n",
       "5     Low Budget     Medium Collection  \n",
       "6    High Budget     Medium Collection  \n",
       "7    High Budget     Medium Collection  \n",
       "8    High Budget     Medium Collection  \n",
       "9     Low Budget        Low Collection  "
      ]
     },
     "execution_count": 31,
     "metadata": {},
     "output_type": "execute_result"
    }
   ],
   "source": [
    "collection_bins = [0, 20, 40, 60, float('inf')]  # Define your collection bins\n",
    "collection_labels = ['Low Collection', 'Medium Collection', 'High Collection', 'Very High Collection']  # Labels for the bins\n",
    "\n",
    "df['CollectionBin'] = pd.cut(df['BoxOfficeCollection'], bins=collection_bins, labels=collection_labels)\n",
    "df.head(10)\n"
   ]
  },
  {
   "cell_type": "code",
   "execution_count": null,
   "id": "a8bdccf2",
   "metadata": {
    "colab": {
     "base_uri": "https://localhost:8080/",
     "height": 607
    },
    "executionInfo": {
     "elapsed": 1556,
     "status": "ok",
     "timestamp": 1720632642525,
     "user": {
      "displayName": "Manju Sreekumar",
      "userId": "15739172059804483042"
     },
     "user_tz": -330
    },
    "id": "a8bdccf2",
    "outputId": "16d47ca8-33bb-4bf5-dca3-43e23b9b4c9f"
   },
   "outputs": [
    {
     "data": {
      "image/png": "[encoded data removed]",
      "text/plain": [
       "<Figure size 800x600 with 1 Axes>"
      ]
     },
     "metadata": {},
     "output_type": "display_data"
    }
   ],
   "source": [
    "\n",
    "import matplotlib.pyplot as plt\n",
    "budget_bin_counts = df['CollectionBin'].value_counts()\n",
    "\n",
    "# Plot the data as a bar chart\n",
    "plt.figure(figsize=(8, 6))\n",
    "budget_bin_counts.plot(kind='bar', color='skyblue')\n",
    "plt.title('Number of Movies in Each Budget Bin')\n",
    "plt.xlabel('Budget Bin')\n",
    "plt.ylabel('Number of Movies')\n",
    "plt.xticks(rotation=45)  # Rotate x-axis labels for better readability\n",
    "plt.tight_layout()\n",
    "plt.show()"
   ]
  },
  {
   "cell_type": "code",
   "execution_count": null,
   "id": "f614b437",
   "metadata": {
    "id": "f614b437"
   },
   "outputs": [],
   "source": []
  }
 ],
 "metadata": {
  "colab": {
   "provenance": []
  },
  "kernelspec": {
   "display_name": "Python 3 (ipykernel)",
   "language": "python",
   "name": "python3"
  },
  "language_info": {
   "codemirror_mode": {
    "name": "ipython",
    "version": 3
   },
   "file_extension": ".py",
   "mimetype": "text/x-python",
   "name": "python",
   "nbconvert_exporter": "python",
   "pygments_lexer": "ipython3",
   "version": "3.12.4"
  }
 },
 "nbformat": 4,
 "nbformat_minor": 5
}
