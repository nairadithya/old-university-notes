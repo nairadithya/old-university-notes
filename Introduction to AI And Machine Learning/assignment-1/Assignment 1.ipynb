{
 "cells": [
  {
   "cell_type": "code",
   "execution_count": 33,
   "id": "ef5deb63-edc2-4c97-b940-549bcb97d410",
   "metadata": {},
   "outputs": [],
   "source": [
    "df = pd.read_csv('diabetes_012_health_indicators_BRFSS2015.csv')"
   ]
  },
  {
   "cell_type": "code",
   "execution_count": 34,
   "id": "3a97bfae",
   "metadata": {},
   "outputs": [
    {
     "name": "stdout",
     "output_type": "stream",
     "text": [
      "<class 'pandas.core.frame.DataFrame'>\n",
      "RangeIndex: 253680 entries, 0 to 253679\n",
      "Data columns (total 22 columns):\n",
      " #   Column                Non-Null Count   Dtype  \n",
      "---  ------                --------------   -----  \n",
      " 0   Diabetes_012          253680 non-null  float64\n",
      " 1   HighBP                253680 non-null  float64\n",
      " 2   HighChol              253680 non-null  float64\n",
      " 3   CholCheck             253680 non-null  float64\n",
      " 4   BMI                   253680 non-null  float64\n",
      " 5   Smoker                253680 non-null  float64\n",
      " 6   Stroke                253680 non-null  float64\n",
      " 7   HeartDiseaseorAttack  253680 non-null  float64\n",
      " 8   PhysActivity          253680 non-null  float64\n",
      " 9   Fruits                253680 non-null  float64\n",
      " 10  Veggies               253680 non-null  float64\n",
      " 11  HvyAlcoholConsump     253680 non-null  float64\n",
      " 12  AnyHealthcare         253680 non-null  float64\n",
      " 13  NoDocbcCost           253680 non-null  float64\n",
      " 14  GenHlth               253680 non-null  float64\n",
      " 15  MentHlth              253680 non-null  float64\n",
      " 16  PhysHlth              253680 non-null  float64\n",
      " 17  DiffWalk              253680 non-null  float64\n",
      " 18  Sex                   253680 non-null  float64\n",
      " 19  Age                   253680 non-null  float64\n",
      " 20  Education             253680 non-null  float64\n",
      " 21  Income                253680 non-null  float64\n",
      "dtypes: float64(22)\n",
      "memory usage: 42.6 MB\n"
     ]
    }
   ],
   "source": [
    "df.info()"
   ]
  },
  {
   "cell_type": "code",
   "execution_count": 35,
   "id": "0c8fa967-6f5a-4665-90be-ebf828cd9659",
   "metadata": {},
   "outputs": [],
   "source": [
    "# One hot encoding on GenHlth\n",
    "df = pd.concat([df,pd.get_dummies(df['GenHlth'],prefix = str('GenHlth'),prefix_sep='_')],axis = 1)\n",
    "# Bernoulli Naive Bayes"
   ]
  },
  {
   "cell_type": "code",
   "execution_count": 36,
   "id": "4c33d6cc-d8f3-4f11-a72b-4c15d25c47c0",
   "metadata": {},
   "outputs": [],
   "source": [
    "df.drop('GenHlth',axis=1)\n",
    "df = df[df.Diabetes_012 != 1]"
   ]
  },
  {
   "cell_type": "code",
   "execution_count": 37,
   "id": "53c543e1-32b3-4d6a-9a3f-bec0bb72a424",
   "metadata": {},
   "outputs": [],
   "source": [
    "# Splitting Dataset\n",
    "from sklearn.model_selection import train_test_split\n",
    "\n",
    "x = df.drop('Diabetes_012',axis=1)\n",
    "y = df['Diabetes_012']\n",
    "\n",
    "X_train,X_test,y_train,y_test=train_test_split(x, y, train_size=0.8, stratify = y, random_state=100)"
   ]
  },
  {
   "cell_type": "code",
   "execution_count": 38,
   "id": "6286b88f",
   "metadata": {},
   "outputs": [
    {
     "name": "stdout",
     "output_type": "stream",
     "text": [
      "Before Counter({0.0: 170962, 2.0: 28277})\n",
      "After Counter({0.0: 164307, 2.0: 28277})\n"
     ]
    }
   ],
   "source": [
    "# Oversampling, No Diabetes is very high, Prediabetes is very low, class imbalance\n",
    "# Dropping pre-diabetes to make this a binary classification problem.\n",
    "from imblearn.under_sampling import TomekLinks\n",
    "counter = Counter(y_train)\n",
    "print('Before', counter)\n",
    "\n",
    "# Undersampling the train dataset using Tomek Links\n",
    "tl = TomekLinks()\n",
    "X_train_tl, y_train_tl = tl.fit_resample(X_train, y_train)\n",
    "\n",
    "counter = Counter(y_train_tl)\n",
    "print('After', counter)"
   ]
  }
 ],
 "metadata": {
  "kernelspec": {
   "display_name": "Python 3 (ipykernel)",
   "language": "python",
   "name": "python3"
  },
  "language_info": {
   "codemirror_mode": {
    "name": "ipython",
    "version": 3
   },
   "file_extension": ".py",
   "mimetype": "text/x-python",
   "name": "python",
   "nbconvert_exporter": "python",
   "pygments_lexer": "ipython3",
   "version": "3.12.4"
  }
 },
 "nbformat": 4,
 "nbformat_minor": 5
}
