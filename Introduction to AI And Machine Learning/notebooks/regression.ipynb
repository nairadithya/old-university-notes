{
 "cells": [
  {
   "cell_type": "code",
   "execution_count": 4,
   "metadata": {
    "executionInfo": {
     "elapsed": 428,
     "status": "ok",
     "timestamp": 1696575456977,
     "user": {
      "displayName": "Manju Sreekumar",
      "userId": "15739172059804483042"
     },
     "user_tz": -330
    },
    "id": "ZRlHjshi4uBQ"
   },
   "outputs": [],
   "source": [
    "import pandas as pd\n",
    "import numpy as np\n",
    "from sklearn.metrics import classification_report\n",
    "from sklearn.metrics import confusion_matrix\n",
    "from sklearn.metrics import accuracy_score\n",
    "from sklearn.metrics import precision_recall_curve\n",
    "from sklearn.metrics import f1_score\n",
    "from sklearn.metrics import auc"
   ]
  },
  {
   "cell_type": "code",
   "execution_count": 5,
   "metadata": {
    "colab": {
     "base_uri": "https://localhost:8080/",
     "height": 362
    },
    "executionInfo": {
     "elapsed": 381,
     "status": "ok",
     "timestamp": 1696575465863,
     "user": {
      "displayName": "Manju Sreekumar",
      "userId": "15739172059804483042"
     },
     "user_tz": -330
    },
    "id": "vFyvgh8s8G4N",
    "outputId": "95e60221-454d-4a26-fb6e-1e0aec8907c3"
   },
   "outputs": [
    {
     "data": {
      "text/html": [
       "<div>\n",
       "<style scoped>\n",
       "    .dataframe tbody tr th:only-of-type {\n",
       "        vertical-align: middle;\n",
       "    }\n",
       "\n",
       "    .dataframe tbody tr th {\n",
       "        vertical-align: top;\n",
       "    }\n",
       "\n",
       "    .dataframe thead th {\n",
       "        text-align: right;\n",
       "    }\n",
       "</style>\n",
       "<table border=\"1\" class=\"dataframe\">\n",
       "  <thead>\n",
       "    <tr style=\"text-align: right;\">\n",
       "      <th></th>\n",
       "      <th>S. No.</th>\n",
       "      <th>Percentage in Grade 10</th>\n",
       "      <th>Salary</th>\n",
       "    </tr>\n",
       "  </thead>\n",
       "  <tbody>\n",
       "    <tr>\n",
       "      <th>0</th>\n",
       "      <td>1</td>\n",
       "      <td>62.00</td>\n",
       "      <td>270000</td>\n",
       "    </tr>\n",
       "    <tr>\n",
       "      <th>1</th>\n",
       "      <td>2</td>\n",
       "      <td>76.33</td>\n",
       "      <td>200000</td>\n",
       "    </tr>\n",
       "    <tr>\n",
       "      <th>2</th>\n",
       "      <td>3</td>\n",
       "      <td>72.00</td>\n",
       "      <td>240000</td>\n",
       "    </tr>\n",
       "    <tr>\n",
       "      <th>3</th>\n",
       "      <td>4</td>\n",
       "      <td>60.00</td>\n",
       "      <td>250000</td>\n",
       "    </tr>\n",
       "    <tr>\n",
       "      <th>4</th>\n",
       "      <td>5</td>\n",
       "      <td>61.00</td>\n",
       "      <td>180000</td>\n",
       "    </tr>\n",
       "    <tr>\n",
       "      <th>5</th>\n",
       "      <td>6</td>\n",
       "      <td>55.00</td>\n",
       "      <td>300000</td>\n",
       "    </tr>\n",
       "    <tr>\n",
       "      <th>6</th>\n",
       "      <td>7</td>\n",
       "      <td>70.00</td>\n",
       "      <td>260000</td>\n",
       "    </tr>\n",
       "    <tr>\n",
       "      <th>7</th>\n",
       "      <td>8</td>\n",
       "      <td>68.00</td>\n",
       "      <td>235000</td>\n",
       "    </tr>\n",
       "    <tr>\n",
       "      <th>8</th>\n",
       "      <td>9</td>\n",
       "      <td>82.80</td>\n",
       "      <td>425000</td>\n",
       "    </tr>\n",
       "    <tr>\n",
       "      <th>9</th>\n",
       "      <td>10</td>\n",
       "      <td>59.00</td>\n",
       "      <td>240000</td>\n",
       "    </tr>\n",
       "  </tbody>\n",
       "</table>\n",
       "</div>"
      ],
      "text/plain": [
       "   S. No.  Percentage in Grade 10  Salary\n",
       "0       1                   62.00  270000\n",
       "1       2                   76.33  200000\n",
       "2       3                   72.00  240000\n",
       "3       4                   60.00  250000\n",
       "4       5                   61.00  180000\n",
       "5       6                   55.00  300000\n",
       "6       7                   70.00  260000\n",
       "7       8                   68.00  235000\n",
       "8       9                   82.80  425000\n",
       "9      10                   59.00  240000"
      ]
     },
     "execution_count": 5,
     "metadata": {},
     "output_type": "execute_result"
    }
   ],
   "source": [
    "import numpy as np\n",
    "from sklearn.linear_model import LinearRegression\n",
    "import matplotlib.pyplot as plt\n",
    "\n",
    "mba_salary_df = pd.read_csv(\"../datasets/MBA Salary.csv\")\n",
    "mba_salary_df.head(10)"
   ]
  },
  {
   "cell_type": "code",
   "execution_count": 6,
   "metadata": {
    "colab": {
     "base_uri": "https://localhost:8080/"
    },
    "executionInfo": {
     "elapsed": 383,
     "status": "ok",
     "timestamp": 1696575470707,
     "user": {
      "displayName": "Manju Sreekumar",
      "userId": "15739172059804483042"
     },
     "user_tz": -330
    },
    "id": "36IN9IBK_Ex9",
    "outputId": "facd35bc-551b-46a0-9e13-3d2114594886"
   },
   "outputs": [
    {
     "name": "stdout",
     "output_type": "stream",
     "text": [
      "<class 'pandas.core.frame.DataFrame'>\n",
      "RangeIndex: 50 entries, 0 to 49\n",
      "Data columns (total 3 columns):\n",
      " #   Column                  Non-Null Count  Dtype  \n",
      "---  ------                  --------------  -----  \n",
      " 0   S. No.                  50 non-null     int64  \n",
      " 1   Percentage in Grade 10  50 non-null     float64\n",
      " 2   Salary                  50 non-null     int64  \n",
      "dtypes: float64(1), int64(2)\n",
      "memory usage: 1.3 KB\n"
     ]
    }
   ],
   "source": [
    "mba_salary_df.info()"
   ]
  },
  {
   "cell_type": "code",
   "execution_count": 9,
   "metadata": {
    "executionInfo": {
     "elapsed": 352,
     "status": "ok",
     "timestamp": 1696575474550,
     "user": {
      "displayName": "Manju Sreekumar",
      "userId": "15739172059804483042"
     },
     "user_tz": -330
    },
    "id": "t6mUiAK5mRe1"
   },
   "outputs": [],
   "source": [
    "X = mba_salary_df['Percentage in Grade 10']\n",
    "Y = mba_salary_df['Salary']\n",
    "model = LinearRegression()\n",
    "X=np.array(X).reshape(-1, 1)"
   ]
  },
  {
   "cell_type": "code",
   "execution_count": 10,
   "metadata": {
    "colab": {
     "base_uri": "https://localhost:8080/"
    },
    "executionInfo": {
     "elapsed": 4,
     "status": "ok",
     "timestamp": 1696575476948,
     "user": {
      "displayName": "Manju Sreekumar",
      "userId": "15739172059804483042"
     },
     "user_tz": -330
    },
    "id": "rqtvHpwdpI6A",
    "outputId": "9d8c2fd3-7ade-4609-d992-1ecd1b3b27e8"
   },
   "outputs": [
    {
     "name": "stdout",
     "output_type": "stream",
     "text": [
      "Mean Absolute Error (MAE): 44950.163305414586\n",
      "Mean Squared Error (MSE): 3480554701.902649\n",
      "Root Mean Squared Error (RMSE): 58996.226166617205\n",
      "R-squared (R²): 0.3805122592921436\n"
     ]
    }
   ],
   "source": [
    "from sklearn.model_selection import train_test_split\n",
    "from sklearn.metrics import mean_absolute_error, mean_squared_error, r2_score\n",
    "X_train, X_test, Y_train, y_test = train_test_split(X, Y, test_size=0.2, random_state=42)\n",
    "model.fit(X_train, Y_train)\n",
    "# Make predictions on the test data\n",
    "y_pred = model.predict(X_test)\n",
    "\n",
    "# Calculate evaluation metrics\n",
    "mae = mean_absolute_error(y_test, y_pred)\n",
    "mse = mean_squared_error(y_test, y_pred)\n",
    "rmse = np.sqrt(mse)\n",
    "r2 = r2_score(y_test, y_pred)\n",
    "\n",
    "# Print the evaluation metrics\n",
    "print(\"Mean Absolute Error (MAE):\", mae)\n",
    "print(\"Mean Squared Error (MSE):\", mse)\n",
    "print(\"Root Mean Squared Error (RMSE):\", rmse)\n",
    "print(\"R-squared (R²):\", r2)\n"
   ]
  },
  {
   "cell_type": "code",
   "execution_count": 11,
   "metadata": {
    "colab": {
     "base_uri": "https://localhost:8080/",
     "height": 472
    },
    "executionInfo": {
     "elapsed": 517,
     "status": "ok",
     "timestamp": 1696575482928,
     "user": {
      "displayName": "Manju Sreekumar",
      "userId": "15739172059804483042"
     },
     "user_tz": -330
    },
    "id": "6pFaF7iEoAzV",
    "outputId": "8c8f8e25-341b-4f71-c672-5484c7ef9ff2"
   },
   "outputs": [
    {
     "data": {
      "image/png": "[encoded data removed]",
      "text/plain": [
       "<Figure size 640x480 with 1 Axes>"
      ]
     },
     "metadata": {},
     "output_type": "display_data"
    }
   ],
   "source": [
    "X_new = np.array([6]).reshape(-1, 1)\n",
    "y_pred = model.predict(X_new)\n",
    "\n",
    "# Plot the data and the regression line\n",
    "plt.scatter(X_test, y_test, label='Actual Data')\n",
    "plt.plot(X_test, model.predict(X_test), color='red', linewidth=2, label='Linear Regression')\n",
    "plt.xlabel('Percentage in 10th class')\n",
    "plt.ylabel('Salary')\n",
    "plt.title('Linear Regression with One Input and One Output')\n",
    "plt.legend()\n",
    "plt.show()"
   ]
  },
  {
   "cell_type": "code",
   "execution_count": 20,
   "metadata": {
    "colab": {
     "base_uri": "https://localhost:8080/"
    },
    "executionInfo": {
     "elapsed": 357,
     "status": "ok",
     "timestamp": 1696575489567,
     "user": {
      "displayName": "Manju Sreekumar",
      "userId": "15739172059804483042"
     },
     "user_tz": -330
    },
    "id": "KYypzaYnrbpF",
    "outputId": "7a922e8f-9973-4a8f-dfce-679f3acf50e9"
   },
   "outputs": [
    {
     "name": "stdout",
     "output_type": "stream",
     "text": [
      "3480556831.731561\n",
      "R-squared: 0.3805118802138029\n"
     ]
    }
   ],
   "source": [
    "from sklearn.linear_model import Lasso\n",
    "lassoReg = Lasso(alpha=0.3)\n",
    "lassoReg.fit(X_train,Y_train)\n",
    "y_pred= lassoReg.predict(X_test)\n",
    "# calculating mse\n",
    "mse = np.mean((y_pred - y_test)**2)\n",
    "print(mse)\n",
    "rsq=lassoReg.score(X_test,y_test)\n",
    "print(\"R-squared:\", rsq)"
   ]
  },
  {
   "cell_type": "code",
   "execution_count": 21,
   "metadata": {
    "colab": {
     "base_uri": "https://localhost:8080/"
    },
    "executionInfo": {
     "elapsed": 350,
     "status": "ok",
     "timestamp": 1696575495037,
     "user": {
      "displayName": "Manju Sreekumar",
      "userId": "15739172059804483042"
     },
     "user_tz": -330
    },
    "id": "xrmRqiT8vc2U",
    "outputId": "abd34e09-2191-40fe-b9f9-a86447c1aa1b"
   },
   "outputs": [
    {
     "name": "stdout",
     "output_type": "stream",
     "text": [
      "3488957236.5249085\n",
      "R-squared: 0.37901673124125057\n"
     ]
    }
   ],
   "source": [
    "from sklearn.linear_model import ElasticNet\n",
    "\n",
    "ENreg = ElasticNet(alpha=1, l1_ratio=0.5)\n",
    "ENreg.fit(X_train,Y_train)\n",
    "pred_cv = ENreg.predict(X_test)\n",
    "\n",
    "mse = np.mean((pred_cv - y_test)**2)\n",
    "print(mse)\n",
    "rsq=ENreg.score(X_test,y_test)\n",
    "print(\"R-squared:\", rsq)"
   ]
  },
  {
   "cell_type": "code",
   "execution_count": 22,
   "metadata": {
    "colab": {
     "base_uri": "https://localhost:8080/"
    },
    "executionInfo": {
     "elapsed": 671,
     "status": "ok",
     "timestamp": 1696575501477,
     "user": {
      "displayName": "Manju Sreekumar",
      "userId": "15739172059804483042"
     },
     "user_tz": -330
    },
    "id": "lMTzxJWww1Nv",
    "outputId": "934a9b63-c654-4ba7-d868-f515b35c0b64"
   },
   "outputs": [
    {
     "name": "stdout",
     "output_type": "stream",
     "text": [
      "3480976021.2822638\n",
      "R-squared: 0.3804372706156399\n"
     ]
    }
   ],
   "source": [
    "from sklearn.linear_model import Ridge\n",
    "\n",
    "ridgeReg = Ridge(alpha=1.0)\n",
    "ridgeReg.fit(X_train, Y_train)\n",
    "pred_cv = ridgeReg.predict(X_test)\n",
    "\n",
    "# Calculating MSE\n",
    "mse = np.mean((pred_cv - y_test) ** 2)\n",
    "print(mse)\n",
    "\n",
    "# R-squared (coefficient of determination)\n",
    "r_squared = ridgeReg.score(X_test, y_test)\n",
    "print(\"R-squared:\", r_squared)\n"
   ]
  },
  {
   "cell_type": "code",
   "execution_count": 23,
   "metadata": {
    "id": "Wgl2e4ya93wA"
   },
   "outputs": [],
   "source": [
    "####Linear Regression######################################\n",
    "\n",
    "from sklearn.linear_model import LinearRegression\n",
    "from sklearn.metrics import mean_absolute_error, mean_squared_error, r2_score\n",
    "boston = pd.read_csv(\"../datasets/boston_housing.csv\")"
   ]
  },
  {
   "cell_type": "code",
   "execution_count": 24,
   "metadata": {
    "colab": {
     "base_uri": "https://localhost:8080/",
     "height": 206
    },
    "executionInfo": {
     "elapsed": 443,
     "status": "ok",
     "timestamp": 1696495097486,
     "user": {
      "displayName": "Manju Sreekumar",
      "userId": "15739172059804483042"
     },
     "user_tz": -330
    },
    "id": "5LubNhTw43JJ",
    "outputId": "e2f66047-7360-4476-9b47-16fe7eb8568c"
   },
   "outputs": [
    {
     "data": {
      "text/html": [
       "<div>\n",
       "<style scoped>\n",
       "    .dataframe tbody tr th:only-of-type {\n",
       "        vertical-align: middle;\n",
       "    }\n",
       "\n",
       "    .dataframe tbody tr th {\n",
       "        vertical-align: top;\n",
       "    }\n",
       "\n",
       "    .dataframe thead th {\n",
       "        text-align: right;\n",
       "    }\n",
       "</style>\n",
       "<table border=\"1\" class=\"dataframe\">\n",
       "  <thead>\n",
       "    <tr style=\"text-align: right;\">\n",
       "      <th></th>\n",
       "      <th>crim</th>\n",
       "      <th>zn</th>\n",
       "      <th>indus</th>\n",
       "      <th>chas</th>\n",
       "      <th>nox</th>\n",
       "      <th>rm</th>\n",
       "      <th>age</th>\n",
       "      <th>dis</th>\n",
       "      <th>rad</th>\n",
       "      <th>tax</th>\n",
       "      <th>ptratio</th>\n",
       "      <th>black</th>\n",
       "      <th>lstat</th>\n",
       "      <th>medv</th>\n",
       "    </tr>\n",
       "  </thead>\n",
       "  <tbody>\n",
       "    <tr>\n",
       "      <th>0</th>\n",
       "      <td>0.00632</td>\n",
       "      <td>18.0</td>\n",
       "      <td>2.31</td>\n",
       "      <td>0</td>\n",
       "      <td>0.538</td>\n",
       "      <td>6.575</td>\n",
       "      <td>65.2</td>\n",
       "      <td>4.0900</td>\n",
       "      <td>1</td>\n",
       "      <td>296.0</td>\n",
       "      <td>15.3</td>\n",
       "      <td>396.90</td>\n",
       "      <td>4.98</td>\n",
       "      <td>24.0</td>\n",
       "    </tr>\n",
       "    <tr>\n",
       "      <th>1</th>\n",
       "      <td>0.02731</td>\n",
       "      <td>0.0</td>\n",
       "      <td>7.07</td>\n",
       "      <td>0</td>\n",
       "      <td>0.469</td>\n",
       "      <td>6.421</td>\n",
       "      <td>78.9</td>\n",
       "      <td>4.9671</td>\n",
       "      <td>2</td>\n",
       "      <td>242.0</td>\n",
       "      <td>17.8</td>\n",
       "      <td>396.90</td>\n",
       "      <td>9.14</td>\n",
       "      <td>21.6</td>\n",
       "    </tr>\n",
       "    <tr>\n",
       "      <th>2</th>\n",
       "      <td>0.02729</td>\n",
       "      <td>0.0</td>\n",
       "      <td>7.07</td>\n",
       "      <td>0</td>\n",
       "      <td>0.469</td>\n",
       "      <td>7.185</td>\n",
       "      <td>61.1</td>\n",
       "      <td>4.9671</td>\n",
       "      <td>2</td>\n",
       "      <td>242.0</td>\n",
       "      <td>17.8</td>\n",
       "      <td>392.83</td>\n",
       "      <td>4.03</td>\n",
       "      <td>34.7</td>\n",
       "    </tr>\n",
       "    <tr>\n",
       "      <th>3</th>\n",
       "      <td>0.03237</td>\n",
       "      <td>0.0</td>\n",
       "      <td>2.18</td>\n",
       "      <td>0</td>\n",
       "      <td>0.458</td>\n",
       "      <td>6.998</td>\n",
       "      <td>45.8</td>\n",
       "      <td>6.0622</td>\n",
       "      <td>3</td>\n",
       "      <td>222.0</td>\n",
       "      <td>18.7</td>\n",
       "      <td>394.63</td>\n",
       "      <td>2.94</td>\n",
       "      <td>33.4</td>\n",
       "    </tr>\n",
       "    <tr>\n",
       "      <th>4</th>\n",
       "      <td>0.06905</td>\n",
       "      <td>0.0</td>\n",
       "      <td>2.18</td>\n",
       "      <td>0</td>\n",
       "      <td>0.458</td>\n",
       "      <td>7.147</td>\n",
       "      <td>54.2</td>\n",
       "      <td>6.0622</td>\n",
       "      <td>3</td>\n",
       "      <td>222.0</td>\n",
       "      <td>18.7</td>\n",
       "      <td>396.90</td>\n",
       "      <td>5.33</td>\n",
       "      <td>36.2</td>\n",
       "    </tr>\n",
       "  </tbody>\n",
       "</table>\n",
       "</div>"
      ],
      "text/plain": [
       "      crim    zn  indus  chas    nox     rm   age     dis  rad    tax  \\\n",
       "0  0.00632  18.0   2.31     0  0.538  6.575  65.2  4.0900    1  296.0   \n",
       "1  0.02731   0.0   7.07     0  0.469  6.421  78.9  4.9671    2  242.0   \n",
       "2  0.02729   0.0   7.07     0  0.469  7.185  61.1  4.9671    2  242.0   \n",
       "3  0.03237   0.0   2.18     0  0.458  6.998  45.8  6.0622    3  222.0   \n",
       "4  0.06905   0.0   2.18     0  0.458  7.147  54.2  6.0622    3  222.0   \n",
       "\n",
       "   ptratio   black  lstat  medv  \n",
       "0     15.3  396.90   4.98  24.0  \n",
       "1     17.8  396.90   9.14  21.6  \n",
       "2     17.8  392.83   4.03  34.7  \n",
       "3     18.7  394.63   2.94  33.4  \n",
       "4     18.7  396.90   5.33  36.2  "
      ]
     },
     "execution_count": 24,
     "metadata": {},
     "output_type": "execute_result"
    }
   ],
   "source": [
    "boston.head()"
   ]
  },
  {
   "cell_type": "code",
   "execution_count": 25,
   "metadata": {
    "colab": {
     "base_uri": "https://localhost:8080/"
    },
    "executionInfo": {
     "elapsed": 1304,
     "status": "ok",
     "timestamp": 1696496640729,
     "user": {
      "displayName": "Manju Sreekumar",
      "userId": "15739172059804483042"
     },
     "user_tz": -330
    },
    "id": "3_8VYJBs5TdI",
    "outputId": "19fbfd17-b1d0-4d49-dc30-ff5e4eccb4ac"
   },
   "outputs": [
    {
     "name": "stdout",
     "output_type": "stream",
     "text": [
      "Mean Absolute Error (MAE): 3.1890919658878283\n",
      "Mean Squared Error (MSE): 24.291119474973403\n",
      "Root Mean Squared Error (RMSE): 4.928602182665324\n",
      "R-squared (R²): 0.6687594935356336\n"
     ]
    }
   ],
   "source": [
    "X = boston[['crim', 'zn', 'indus', 'chas', 'nox', 'rm', 'age', 'dis', 'rad', 'tax', 'ptratio', 'black', 'lstat']]\n",
    "y = boston['medv']\n",
    "from sklearn.model_selection import train_test_split\n",
    "X_train, X_test, y_train, y_test = train_test_split(X, y, test_size=0.2, random_state=42)\n",
    "# Initialize and fit the linear regression model\n",
    "model = LinearRegression()\n",
    "model.fit(X_train, y_train)\n",
    "# Make predictions on the test data\n",
    "y_pred = model.predict(X_test)\n",
    "\n",
    "\n",
    "# Calculate evaluation metrics\n",
    "mae = mean_absolute_error(y_test, y_pred)\n",
    "mse = mean_squared_error(y_test, y_pred)\n",
    "rmse = np.sqrt(mse)\n",
    "r2 = r2_score(y_test, y_pred)\n",
    "\n",
    "# Print the evaluation metrics\n",
    "print(\"Mean Absolute Error (MAE):\", mae)\n",
    "print(\"Mean Squared Error (MSE):\", mse)\n",
    "print(\"Root Mean Squared Error (RMSE):\", rmse)\n",
    "print(\"R-squared (R²):\", r2)\n"
   ]
  },
  {
   "cell_type": "code",
   "execution_count": 26,
   "metadata": {
    "colab": {
     "base_uri": "https://localhost:8080/"
    },
    "executionInfo": {
     "elapsed": 1100,
     "status": "ok",
     "timestamp": 1696566838788,
     "user": {
      "displayName": "Manju Sreekumar",
      "userId": "15739172059804483042"
     },
     "user_tz": -330
    },
    "id": "FW9jb0mgGIhU",
    "outputId": "7af722e3-2227-4a40-dad5-605b32627b11"
   },
   "outputs": [
    {
     "name": "stdout",
     "output_type": "stream",
     "text": [
      "   Survived  Pclass     Sex   Age  Siblings/Spouses Aboard  \\\n",
      "0         0       3    male  22.0                        1   \n",
      "1         1       1  female  38.0                        1   \n",
      "2         1       3  female  26.0                        0   \n",
      "3         1       1  female  35.0                        1   \n",
      "4         0       3    male  35.0                        0   \n",
      "\n",
      "   Parents/Children Aboard     Fare  \n",
      "0                        0   7.2500  \n",
      "1                        0  71.2833  \n",
      "2                        0   7.9250  \n",
      "3                        0  53.1000  \n",
      "4                        0   8.0500  \n",
      "after replacement\\n\n",
      "n    Survived  Pclass   Age  Siblings/Spouses Aboard  Parents/Children Aboard  \\\n",
      "0         0       3  22.0                        1                        0   \n",
      "1         1       1  38.0                        1                        0   \n",
      "2         1       3  26.0                        0                        0   \n",
      "3         1       1  35.0                        1                        0   \n",
      "4         0       3  35.0                        0                        0   \n",
      "\n",
      "      Fare  Gender  \n",
      "0   7.2500       1  \n",
      "1  71.2833       0  \n",
      "2   7.9250       0  \n",
      "3  53.1000       0  \n",
      "4   8.0500       1  \n"
     ]
    }
   ],
   "source": [
    "####LOGISTIC REGRESSION#############################\n",
    "\n",
    "df =pd.read_csv(\"../datasets/Titaanic Datasetforlogisticregression .csv\")\n",
    "print(df.head())\n",
    "\n",
    "list1 = []\n",
    "for i in df['Sex']:\n",
    "  if i == \"male\":\n",
    "    Sex = 1\n",
    "  else:\n",
    "    Sex = 0\n",
    "  list1.append(Sex)\n",
    "\n",
    "df['Gender'] = list1\n",
    "\n",
    "df.drop('Sex', axis = 1, inplace = True)\n",
    "print(\"after replacement\\\\n\\nn\",df.head(5))\n",
    "X = df.drop('Survived',axis = 1)\n",
    "y = df[['Survived']]\n",
    "from sklearn.model_selection import train_test_split\n",
    "X_train, X_test, y_train, y_test = train_test_split(X, y, test_size=1/4, random_state=0)\n",
    "\n",
    "\n",
    "\n"
   ]
  },
  {
   "cell_type": "code",
   "execution_count": null,
   "metadata": {
    "id": "tRSpIcjWQjfM"
   },
   "outputs": [],
   "source": []
  },
  {
   "cell_type": "code",
   "execution_count": 27,
   "metadata": {
    "colab": {
     "base_uri": "https://localhost:8080/"
    },
    "executionInfo": {
     "elapsed": 388,
     "status": "ok",
     "timestamp": 1696566843778,
     "user": {
      "displayName": "Manju Sreekumar",
      "userId": "15739172059804483042"
     },
     "user_tz": -330
    },
    "id": "LVz15kiAJI3h",
    "outputId": "2de6d007-bdb3-4b64-cd7e-a1ffbbc1043c"
   },
   "outputs": [
    {
     "name": "stdout",
     "output_type": "stream",
     "text": [
      "Confusion matrix\n",
      "\n",
      "[[123  19]\n",
      " [ 26  54]]\n",
      "Accuracy: 0.7972972972972973\n",
      "Classification Report matrix\n",
      "\n",
      "\n",
      "              precision    recall  f1-score   support\n",
      "\n",
      "           0       0.83      0.87      0.85       142\n",
      "           1       0.74      0.68      0.71        80\n",
      "\n",
      "    accuracy                           0.80       222\n",
      "   macro avg       0.78      0.77      0.78       222\n",
      "weighted avg       0.79      0.80      0.80       222\n",
      "\n"
     ]
    },
    {
     "name": "stderr",
     "output_type": "stream",
     "text": [
      "/home/adithya/.local/lib/python3.12/site-packages/sklearn/utils/validation.py:1339: DataConversionWarning: A column-vector y was passed when a 1d array was expected. Please change the shape of y to (n_samples, ), for example using ravel().\n",
      "  y = column_or_1d(y, warn=True)\n"
     ]
    }
   ],
   "source": [
    "from sklearn.linear_model import LogisticRegression\n",
    "logmodel = LogisticRegression()\n",
    "logmodel.fit(X_train, y_train)\n",
    "y_pred = logmodel.predict(X_test)\n",
    "print(\"Confusion matrix\\n\")\n",
    "print(confusion_matrix(y_test, y_pred))\n",
    "print('Accuracy: ' + str(accuracy_score(y_test, y_pred)))\n",
    "print(\"Classification Report matrix\\n\\n\")\n",
    "print(classification_report(y_test, y_pred))"
   ]
  },
  {
   "cell_type": "code",
   "execution_count": 28,
   "metadata": {
    "colab": {
     "base_uri": "https://localhost:8080/"
    },
    "executionInfo": {
     "elapsed": 368,
     "status": "ok",
     "timestamp": 1696566854843,
     "user": {
      "displayName": "Manju Sreekumar",
      "userId": "15739172059804483042"
     },
     "user_tz": -330
    },
    "id": "PZh4CWXTJ7c3",
    "outputId": "80ecdc9c-d677-439a-eebf-ee37f817c243"
   },
   "outputs": [
    {
     "name": "stdout",
     "output_type": "stream",
     "text": [
      "Logistic: f1=0.706 auc=0.815\n"
     ]
    }
   ],
   "source": [
    "# predict probabilities\n",
    "lr_probs = logmodel.predict_proba(X_test)\n",
    "# keep probabilities for the positive outcome only\n",
    "lr_probs = lr_probs[:, 1]\n",
    "lr_precision, lr_recall, _ = precision_recall_curve(y_test, lr_probs)\n",
    "lr_f1, lr_auc = f1_score(y_test, y_pred), auc(lr_recall, lr_precision)\n",
    "\n",
    "# summarize scores\n",
    "print('Logistic: f1=%.3f auc=%.3f' % (lr_f1, lr_auc))"
   ]
  },
  {
   "cell_type": "code",
   "execution_count": 29,
   "metadata": {
    "colab": {
     "base_uri": "https://localhost:8080/",
     "height": 564
    },
    "executionInfo": {
     "elapsed": 1083,
     "status": "ok",
     "timestamp": 1696566862210,
     "user": {
      "displayName": "Manju Sreekumar",
      "userId": "15739172059804483042"
     },
     "user_tz": -330
    },
    "id": "6CxGoTz7Qli8",
    "outputId": "702d2a6f-a9ea-401d-b17e-76baa65a1001"
   },
   "outputs": [
    {
     "data": {
      "image/png": "[encoded data removed]",
      "text/plain": [
       "<Figure size 800x600 with 1 Axes>"
      ]
     },
     "metadata": {},
     "output_type": "display_data"
    }
   ],
   "source": [
    "from sklearn.metrics import precision_recall_curve\n",
    "import matplotlib.pyplot as plt\n",
    "\n",
    "precision, recall, thresholds = precision_recall_curve(y_test, lr_probs)\n",
    "\n",
    "plt.figure(figsize=(8, 6))\n",
    "plt.plot(recall, precision)\n",
    "plt.xlabel('Recall')\n",
    "plt.ylabel('Precision')\n",
    "plt.title('Precision-Recall Curve')\n",
    "plt.show()"
   ]
  },
  {
   "cell_type": "code",
   "execution_count": 30,
   "metadata": {
    "colab": {
     "base_uri": "https://localhost:8080/",
     "height": 564
    },
    "executionInfo": {
     "elapsed": 1324,
     "status": "ok",
     "timestamp": 1696567544210,
     "user": {
      "displayName": "Manju Sreekumar",
      "userId": "15739172059804483042"
     },
     "user_tz": -330
    },
    "id": "Z1Eqij8pTGDa",
    "outputId": "4bc4a69b-fa26-4c3a-9526-1c65aef16ec2"
   },
   "outputs": [
    {
     "data": {
      "image/png": "[encoded data removed]",
      "text/plain": [
       "<Figure size 800x600 with 1 Axes>"
      ]
     },
     "metadata": {},
     "output_type": "display_data"
    }
   ],
   "source": [
    "from sklearn.metrics import roc_curve, roc_auc_score\n",
    "fpr, tpr, thresholds = roc_curve(y_test, lr_probs)\n",
    "roc_auc = roc_auc_score(y_test, lr_probs)\n",
    "import matplotlib.pyplot as plt\n",
    "\n",
    "plt.figure(figsize=(8, 6))\n",
    "plt.plot(fpr, tpr, color='darkorange', lw=2, label=f'ROC curve (AUC = {roc_auc:.2f})')\n",
    "plt.plot([0, 1], [0, 1], color='navy', lw=2, linestyle='--')\n",
    "plt.xlim([0.0, 1.0])\n",
    "plt.ylim([0.0, 1.05])\n",
    "plt.xlabel('False Positive Rate (FPR)')\n",
    "plt.ylabel('True Positive Rate (TPR)')\n",
    "plt.title('Receiver Operating Characteristic (ROC) Curve')\n",
    "plt.legend(loc='lower right')\n",
    "plt.show()\n"
   ]
  },
  {
   "cell_type": "code",
   "execution_count": 31,
   "metadata": {
    "colab": {
     "base_uri": "https://localhost:8080/",
     "height": 472
    },
    "executionInfo": {
     "elapsed": 825,
     "status": "ok",
     "timestamp": 1696576028930,
     "user": {
      "displayName": "Manju Sreekumar",
      "userId": "15739172059804483042"
     },
     "user_tz": -330
    },
    "id": "fczqmARuz5eQ",
    "outputId": "74efd881-207c-4c6b-c40d-a4cd898288bb"
   },
   "outputs": [
    {
     "data": {
      "image/png": "[encoded data removed]",
      "text/plain": [
       "<Figure size 640x480 with 1 Axes>"
      ]
     },
     "metadata": {},
     "output_type": "display_data"
    }
   ],
   "source": [
    "import numpy as np\n",
    "import matplotlib.pyplot as plt\n",
    "from sklearn.linear_model import LinearRegression\n",
    "from sklearn.preprocessing import PolynomialFeatures\n",
    "\n",
    "# Generate some random data for demonstration purposes\n",
    "np.random.seed(0)\n",
    "X = np.sort(5 * np.random.rand(80, 1), axis=0)\n",
    "y = np.sin(X).ravel() + np.random.normal(0, 0.1, X.shape[0])\n",
    "\n",
    "# Create polynomial features\n",
    "degree = 3  # You can adjust the degree of the polynomial\n",
    "poly_features = PolynomialFeatures(degree=degree)\n",
    "X_poly = poly_features.fit_transform(X)\n",
    "\n",
    "# Fit a linear regression model to the polynomial features\n",
    "model = LinearRegression()\n",
    "model.fit(X_poly, y)\n",
    "\n",
    "# Predict on new data\n",
    "X_new = np.linspace(0, 5, 100)[:, np.newaxis]\n",
    "X_new_poly = poly_features.transform(X_new)\n",
    "y_new = model.predict(X_new_poly)\n",
    "\n",
    "# Plot the results\n",
    "plt.scatter(X, y, s=20, label='Training data')\n",
    "plt.plot(X_new, y_new, color='red', linewidth=2, label='Predicted curve')\n",
    "plt.xlabel('X')\n",
    "plt.ylabel('y')\n",
    "plt.legend()\n",
    "plt.title('Non-linear Regression using Polynomial Regression')\n",
    "plt.show()\n"
   ]
  }
 ],
 "metadata": {
  "colab": {
   "authorship_tag": "ABX9TyMDJJSTcsGtlhcouV3ls73Z",
   "provenance": [
    {
     "file_id": "1sO2UlzpiSpU1cUjJFomcCE6ymVEASqxW",
     "timestamp": 1696493930588
    }
   ]
  },
  "kernelspec": {
   "display_name": "Python 3 (ipykernel)",
   "language": "python",
   "name": "python3"
  },
  "language_info": {
   "codemirror_mode": {
    "name": "ipython",
    "version": 3
   },
   "file_extension": ".py",
   "mimetype": "text/x-python",
   "name": "python",
   "nbconvert_exporter": "python",
   "pygments_lexer": "ipython3",
   "version": "3.12.6"
  }
 },
 "nbformat": 4,
 "nbformat_minor": 4
}
