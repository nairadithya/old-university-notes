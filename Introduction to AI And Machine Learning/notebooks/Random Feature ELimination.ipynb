{
 "cells": [
  {
   "cell_type": "code",
   "execution_count": 1,
   "id": "22ea2202-4a4a-49c2-baaa-6366c1363154",
   "metadata": {},
   "outputs": [
    {
     "name": "stdout",
     "output_type": "stream",
     "text": [
      "Selected Features: [False False  True  True]\n",
      "Feature Ranking: [3 2 1 1]\n"
     ]
    }
   ],
   "source": [
    "from sklearn.feature_selection import RFE\n",
    "from sklearn.svm import SVC\n",
    "from sklearn.datasets import load_iris\n",
    "\n",
    "# Load dataset\n",
    "data = load_iris()\n",
    "X = data.data\n",
    "y = data.target\n",
    "\n",
    "# Initialize the model\n",
    "model = SVC(kernel=\"linear\")\n",
    "\n",
    "# Initialize RFE with the model\n",
    "rfe = RFE(model, n_features_to_select=2)\n",
    "\n",
    "# Fit RFE\n",
    "rfe = rfe.fit(X, y)\n",
    "\n",
    "# Get selected features\n",
    "print(\"Selected Features:\", rfe.support_)\n",
    "print(\"Feature Ranking:\", rfe.ranking_)"
   ]
  }
 ],
 "metadata": {
  "kernelspec": {
   "display_name": "Python 3 (ipykernel)",
   "language": "python",
   "name": "python3"
  },
  "language_info": {
   "codemirror_mode": {
    "name": "ipython",
    "version": 3
   },
   "file_extension": ".py",
   "mimetype": "text/x-python",
   "name": "python",
   "nbconvert_exporter": "python",
   "pygments_lexer": "ipython3",
   "version": "3.12.4"
  }
 },
 "nbformat": 4,
 "nbformat_minor": 5
}
