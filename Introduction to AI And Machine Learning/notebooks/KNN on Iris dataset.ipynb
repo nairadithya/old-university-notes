{
 "cells": [
  {
   "cell_type": "markdown",
   "id": "8637afc5-38b6-4334-a759-2df281d3fbec",
   "metadata": {},
   "source": [
    "# Implement knn on the iris dataset for 10 different values of $k$ ranging from $3 - \\sqrt(n)$ and calculate the average f-measure of 30% on the test data."
   ]
  },
  {
   "cell_type": "code",
   "execution_count": 1,
   "id": "f12171b2-76a6-46d0-9d35-e8e790bb5313",
   "metadata": {},
   "outputs": [],
   "source": [
    "import pandas as pd\n",
    "import numpy as np\n",
    "from sklearn.neighbors import KNeighborsClassifier"
   ]
  },
  {
   "cell_type": "code",
   "execution_count": 2,
   "id": "bc684463-6262-40ac-bf16-7eafb52335a6",
   "metadata": {},
   "outputs": [],
   "source": [
    "df = pd.read_csv('../datasets/iris.csv')"
   ]
  },
  {
   "cell_type": "code",
   "execution_count": 3,
   "id": "790ebf4d-e14f-4be4-81a7-98c481f7f713",
   "metadata": {},
   "outputs": [
    {
     "name": "stdout",
     "output_type": "stream",
     "text": [
      "   sepal_length  sepal_width  petal_length  petal_width species\n",
      "0           5.1          3.5           1.4          0.2  setosa\n",
      "1           4.9          3.0           1.4          0.2  setosa\n",
      "2           4.7          3.2           1.3          0.2  setosa\n",
      "3           4.6          3.1           1.5          0.2  setosa\n",
      "4           5.0          3.6           1.4          0.2  setosa\n",
      "<class 'pandas.core.frame.DataFrame'>\n",
      "RangeIndex: 150 entries, 0 to 149\n",
      "Data columns (total 5 columns):\n",
      " #   Column        Non-Null Count  Dtype  \n",
      "---  ------        --------------  -----  \n",
      " 0   sepal_length  150 non-null    float64\n",
      " 1   sepal_width   150 non-null    float64\n",
      " 2   petal_length  150 non-null    float64\n",
      " 3   petal_width   150 non-null    float64\n",
      " 4   species       150 non-null    object \n",
      "dtypes: float64(4), object(1)\n",
      "memory usage: 6.0+ KB\n",
      "None\n"
     ]
    }
   ],
   "source": [
    "print(df.head())\n",
    "print(df.info())"
   ]
  },
  {
   "cell_type": "code",
   "execution_count": 4,
   "id": "664d91ed-34fe-4430-8f84-dd7e2a578c42",
   "metadata": {},
   "outputs": [],
   "source": [
    "x = df.drop(labels = 'species',axis=1)\n",
    "y = df['species']\n",
    "from sklearn.model_selection import train_test_split\n",
    "x_train, x_test, y_train, y_test = train_test_split(x, y, test_size = 0.3, random_state = 42,stratify=y)"
   ]
  },
  {
   "cell_type": "code",
   "execution_count": 25,
   "id": "c72cdd53-4926-47af-a632-bd89584f99bd",
   "metadata": {},
   "outputs": [
    {
     "name": "stdout",
     "output_type": "stream",
     "text": [
      "range(3, 10)\n",
      "3\n",
      "4\n",
      "5\n",
      "6\n",
      "7\n",
      "8\n",
      "9\n"
     ]
    }
   ],
   "source": [
    "from sklearn.metrics import f1_score\n",
    "print(range(3,int(np.sqrt(len(y_train)))))\n",
    "for i in range(3,int(np.sqrt(len(y_train)))):\n",
    "    print(i)\n"
   ]
  },
  {
   "cell_type": "code",
   "execution_count": 30,
   "id": "5b65a0e1-000c-412a-88ad-55199a93efdb",
   "metadata": {},
   "outputs": [
    {
     "ename": "TypeError",
     "evalue": "KNeighborsClassifier.__init__() got an unexpected keyword argument 'n_neighors'",
     "output_type": "error",
     "traceback": [
      "\u001b[0;31m---------------------------------------------------------------------------\u001b[0m",
      "\u001b[0;31mTypeError\u001b[0m                                 Traceback (most recent call last)",
      "Cell \u001b[0;32mIn[30], line 2\u001b[0m\n\u001b[1;32m      1\u001b[0m \u001b[38;5;28;01mfor\u001b[39;00m ki \u001b[38;5;129;01min\u001b[39;00m \u001b[38;5;28mrange\u001b[39m(\u001b[38;5;241m3\u001b[39m,\u001b[38;5;28mint\u001b[39m(np\u001b[38;5;241m.\u001b[39msqrt(\u001b[38;5;28mlen\u001b[39m(y_train)))):\n\u001b[0;32m----> 2\u001b[0m     KNN \u001b[38;5;241m=\u001b[39m \u001b[43mKNeighborsClassifier\u001b[49m\u001b[43m(\u001b[49m\u001b[43mn_neighors\u001b[49m\u001b[38;5;241;43m=\u001b[39;49m\u001b[43mki\u001b[49m\u001b[43m)\u001b[49m\n\u001b[1;32m      3\u001b[0m     KNN\u001b[38;5;241m.\u001b[39mfit(x_train,y_train)\n\u001b[1;32m      4\u001b[0m     y_pred \u001b[38;5;241m=\u001b[39m KNN\u001b[38;5;241m.\u001b[39mpredict(x_test)\n",
      "\u001b[0;31mTypeError\u001b[0m: KNeighborsClassifier.__init__() got an unexpected keyword argument 'n_neighors'"
     ]
    }
   ],
   "source": [
    "for ki in range(3,int(np.sqrt(len(y_train)))):\n",
    "    KNN = KNeighborsClassifier(n_neighors=ki)\n",
    "    KNN.fit(x_train,y_train)\n",
    "    y_pred = KNN.predict(x_test)\n",
    "    f1 = f1_score(y_test,y_pred, average = 'macro')\n",
    "    print(\"F1-Score:\",f1)"
   ]
  },
  {
   "cell_type": "code",
   "execution_count": 7,
   "id": "2025a7a2-b96f-4d76-aca2-beec9573422d",
   "metadata": {},
   "outputs": [],
   "source": []
  },
  {
   "cell_type": "code",
   "execution_count": 8,
   "id": "07ef2df6-a8e3-446e-971b-ca79e68e8490",
   "metadata": {},
   "outputs": [],
   "source": []
  },
  {
   "cell_type": "code",
   "execution_count": 9,
   "id": "bd9b13f4-fe39-4d14-a808-2b8e489999fd",
   "metadata": {},
   "outputs": [
    {
     "name": "stdout",
     "output_type": "stream",
     "text": [
      "F1-Score: 0.9777530589543938\n"
     ]
    }
   ],
   "source": []
  },
  {
   "cell_type": "code",
   "execution_count": null,
   "id": "4cb75c19-3f36-4a54-8107-306d982cd2f8",
   "metadata": {},
   "outputs": [],
   "source": []
  }
 ],
 "metadata": {
  "kernelspec": {
   "display_name": "Python 3 (ipykernel)",
   "language": "python",
   "name": "python3"
  },
  "language_info": {
   "codemirror_mode": {
    "name": "ipython",
    "version": 3
   },
   "file_extension": ".py",
   "mimetype": "text/x-python",
   "name": "python",
   "nbconvert_exporter": "python",
   "pygments_lexer": "ipython3",
   "version": "3.12.4"
  }
 },
 "nbformat": 4,
 "nbformat_minor": 5
}
