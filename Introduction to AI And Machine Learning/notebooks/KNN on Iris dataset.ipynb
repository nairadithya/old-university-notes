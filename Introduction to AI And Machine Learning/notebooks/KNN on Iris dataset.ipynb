{
 "cells": [
  {
   "cell_type": "code",
   "execution_count": 2,
   "id": "f12171b2-76a6-46d0-9d35-e8e790bb5313",
   "metadata": {},
   "outputs": [],
   "source": [
    "import pandas as pd\n",
    "import numpy as np\n",
    "from sklearn.neighbors import KNeighborsClassifier"
   ]
  },
  {
   "cell_type": "code",
   "execution_count": 3,
   "id": "bc684463-6262-40ac-bf16-7eafb52335a6",
   "metadata": {},
   "outputs": [],
   "source": [
    "df = pd.read_csv('../datasets/iris.csv')"
   ]
  },
  {
   "cell_type": "code",
   "execution_count": 8,
   "id": "790ebf4d-e14f-4be4-81a7-98c481f7f713",
   "metadata": {},
   "outputs": [
    {
     "name": "stdout",
     "output_type": "stream",
     "text": [
      "   sepal_length  sepal_width  petal_length  petal_width species\n",
      "0           5.1          3.5           1.4          0.2  setosa\n",
      "1           4.9          3.0           1.4          0.2  setosa\n",
      "2           4.7          3.2           1.3          0.2  setosa\n",
      "3           4.6          3.1           1.5          0.2  setosa\n",
      "4           5.0          3.6           1.4          0.2  setosa\n",
      "<class 'pandas.core.frame.DataFrame'>\n",
      "RangeIndex: 150 entries, 0 to 149\n",
      "Data columns (total 5 columns):\n",
      " #   Column        Non-Null Count  Dtype  \n",
      "---  ------        --------------  -----  \n",
      " 0   sepal_length  150 non-null    float64\n",
      " 1   sepal_width   150 non-null    float64\n",
      " 2   petal_length  150 non-null    float64\n",
      " 3   petal_width   150 non-null    float64\n",
      " 4   species       150 non-null    object \n",
      "dtypes: float64(4), object(1)\n",
      "memory usage: 6.0+ KB\n",
      "None\n"
     ]
    }
   ],
   "source": [
    "print(df.head())\n",
    "print(df.info())"
   ]
  },
  {
   "cell_type": "code",
   "execution_count": null,
   "id": "b426d670-01db-426a-a125-cdb8a8df0a7b",
   "metadata": {},
   "outputs": [],
   "source": [
    "x = df.drop(labels = 'species',axis=1)\n",
    "y = df['species']"
   ]
  },
  {
   "cell_type": "code",
   "execution_count": null,
   "id": "2053ea09-136e-47ce-97d8-e86ab76b5ec8",
   "metadata": {},
   "outputs": [],
   "source": [
    "from sklearn.model_selection import train_test_split\n",
    "x_train, x_test, y_train, y_test = train_test_split(x, y, test_size = 0.3, random_state = 42,stratify=y)"
   ]
  },
  {
   "cell_type": "code",
   "execution_count": 10,
   "id": "c72cdd53-4926-47af-a632-bd89584f99bd",
   "metadata": {},
   "outputs": [],
   "source": [
    "from sklearn.metrics import f1_score"
   ]
  },
  {
   "cell_type": "code",
   "execution_count": 24,
   "id": "5b65a0e1-000c-412a-88ad-55199a93efdb",
   "metadata": {},
   "outputs": [
    {
     "name": "stdout",
     "output_type": "stream",
     "text": [
      "F1-Score for k = 3: 0.9553571428571429\n",
      "F1-Score for k = 4: 0.9553571428571429\n",
      "F1-Score for k = 5: 0.9777530589543938\n",
      "F1-Score for k = 6: 0.9326599326599326\n",
      "F1-Score for k = 7: 0.9553571428571429\n",
      "F1-Score for k = 8: 0.9326599326599326\n",
      "F1-Score for k = 9: 0.9553571428571429\n"
     ]
    }
   ],
   "source": [
    "for ki in range(3,int(np.sqrt(len(y_train)))):\n",
    "    KNN = KNeighborsClassifier(n_neighbors=ki)\n",
    "    KNN.fit(x_train,y_train)\n",
    "    y_pred = KNN.predict(x_test)\n",
    "    f1 = f1_score(y_test,y_pred, average = 'macro')\n",
    "    print(f\"F1-Score for k = {ki}:\",f1)"
   ]
  }
 ],
 "metadata": {
  "kernelspec": {
   "display_name": "Python 3 (ipykernel)",
   "language": "python",
   "name": "python3"
  },
  "language_info": {
   "codemirror_mode": {
    "name": "ipython",
    "version": 3
   },
   "file_extension": ".py",
   "mimetype": "text/x-python",
   "name": "python",
   "nbconvert_exporter": "python",
   "pygments_lexer": "ipython3",
   "version": "3.12.5"
  }
 },
 "nbformat": 4,
 "nbformat_minor": 5
}
