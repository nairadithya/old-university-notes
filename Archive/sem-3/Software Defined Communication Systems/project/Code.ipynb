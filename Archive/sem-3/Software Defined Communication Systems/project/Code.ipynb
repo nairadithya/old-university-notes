{
 "cells": [
  {
   "cell_type": "code",
   "execution_count": 1,
   "id": "37b405b3-7ffa-45ea-ae1d-b5cc9ccdc8ec",
   "metadata": {},
   "outputs": [
    {
     "name": "stdout",
     "output_type": "stream",
     "text": [
      "(528321, 2)\n"
     ]
    }
   ],
   "source": [
    "import numpy as np\n",
    "\n",
    "file_path = 'DSB_data'\n",
    "\n",
    "with open(file_path, 'rb') as f:\n",
    "    raw_data = np.fromfile(f, dtype=np.float32)\n",
    "\n",
    "complex_data = raw_data[::2] + 1j * raw_data[1::2]\n",
    "\n",
    "X_real = complex_data.real\n",
    "X_imag = complex_data.imag\n",
    "\n",
    "DSB_data  = np.vstack([X_real, X_imag]).T  # Shape: (N, 2)\n",
    "print(np.shape(DSB_data))\n"
   ]
  },
  {
   "cell_type": "code",
   "execution_count": 2,
   "id": "193869f4-c387-40ed-bee8-d827686156c3",
   "metadata": {},
   "outputs": [
    {
     "name": "stdout",
     "output_type": "stream",
     "text": [
      "(528320, 2)\n"
     ]
    }
   ],
   "source": [
    "import numpy as np\n",
    "\n",
    "file_path = 'USB_data'\n",
    "\n",
    "with open(file_path, 'rb') as f:\n",
    "    raw_data = np.fromfile(f, dtype=np.float32)\n",
    "\n",
    "complex_data = raw_data[::2] + 1j * raw_data[1::2]\n",
    "\n",
    "X_real = complex_data.real\n",
    "X_imag = complex_data.imag\n",
    "\n",
    "USB_data  = np.vstack([X_real, X_imag]).T  # Shape: (N, 2)\n",
    "print(np.shape(USB_data))"
   ]
  },
  {
   "cell_type": "code",
   "execution_count": 3,
   "id": "8949659b-08c3-4f9d-ba45-e537936d2e5b",
   "metadata": {},
   "outputs": [],
   "source": [
    "row_to_remove = 528320\n",
    "DSB_data = np.delete(DSB_data, row_to_remove, axis=0)\n",
    "DSB_data = DSB_data.reshape(52832, 20)"
   ]
  },
  {
   "cell_type": "code",
   "execution_count": 4,
   "id": "c0a55793-3616-4e8d-b8f5-a0757ed08117",
   "metadata": {},
   "outputs": [],
   "source": [
    "USB_data = USB_data.reshape(52832, 20)"
   ]
  },
  {
   "cell_type": "code",
   "execution_count": 5,
   "id": "4bda35e3-3766-47e2-a214-d5b13f8f792f",
   "metadata": {},
   "outputs": [],
   "source": [
    "# 0 for DSB\n",
    "# 1 for SSB - USB"
   ]
  },
  {
   "cell_type": "code",
   "execution_count": 6,
   "id": "d602e5dc-3782-452d-9032-cf3866e33828",
   "metadata": {},
   "outputs": [
    {
     "name": "stdout",
     "output_type": "stream",
     "text": [
      "(52832, 21)\n",
      "(52832, 21)\n"
     ]
    }
   ],
   "source": [
    "target = np.zeros((DSB_data.shape[0], 1))  \n",
    "DSB = np.hstack((DSB_data, target))\n",
    "print( np.shape(DSB))\n",
    "\n",
    "target = np.ones((USB_data.shape[0], 1))  \n",
    "USB = np.hstack((USB_data, target))\n",
    "print( np.shape(USB))\n"
   ]
  },
  {
   "cell_type": "code",
   "execution_count": 27,
   "id": "982aa2e1-aa7f-4985-b053-59b680a615f0",
   "metadata": {},
   "outputs": [
    {
     "name": "stdout",
     "output_type": "stream",
     "text": [
      "Combined dataset: (105664, 21)\n"
     ]
    }
   ],
   "source": [
    "data = np.vstack((DSB, USB))\n",
    "np.random.shuffle(data)\n",
    "\n",
    "print(\"Combined dataset:\" , np.shape(data)) \n",
    "\n",
    "X = data[:, :-1]  \n",
    "y = data[:, -1]  "
   ]
  },
  {
   "cell_type": "code",
   "execution_count": 8,
   "id": "d11282b2-1c57-4fc8-9b71-d67a9642aea6",
   "metadata": {},
   "outputs": [],
   "source": [
    "from sklearn.model_selection import train_test_split\n",
    "\n",
    "X_train, X_test, y_train, y_test = train_test_split(X, y, test_size=0.2, random_state=42)"
   ]
  },
  {
   "cell_type": "code",
   "execution_count": 9,
   "id": "38dc9fdc-1318-4ffb-b0ff-c4853a60a3d1",
   "metadata": {},
   "outputs": [],
   "source": [
    "# 1. LOGISTIC REGRESSION"
   ]
  },
  {
   "cell_type": "code",
   "execution_count": 28,
   "id": "8edca240-9862-4676-b29e-a71a47e00826",
   "metadata": {},
   "outputs": [
    {
     "name": "stdout",
     "output_type": "stream",
     "text": [
      "Accuracy: 0.695074054795817\n",
      "\n",
      "Confusion Matrix:\n",
      "[[ 4178  6444]\n",
      " [    0 10511]]\n",
      "\n",
      "Classification Report:\n",
      "              precision    recall  f1-score   support\n",
      "\n",
      "         0.0       1.00      0.39      0.56     10622\n",
      "         1.0       0.62      1.00      0.77     10511\n",
      "\n",
      "    accuracy                           0.70     21133\n",
      "   macro avg       0.81      0.70      0.66     21133\n",
      "weighted avg       0.81      0.70      0.66     21133\n",
      "\n"
     ]
    }
   ],
   "source": [
    "from sklearn.linear_model import LogisticRegression\n",
    "from sklearn.metrics import accuracy_score, classification_report, confusion_matrix\n",
    "\n",
    "model = LogisticRegression()\n",
    "\n",
    "model.fit(X_train, y_train)\n",
    "\n",
    "y_pred = model.predict(X_test)\n",
    "\n",
    "print(\"Accuracy:\", accuracy_score(y_test, y_pred))\n",
    "print(\"\\nConfusion Matrix:\")\n",
    "print(confusion_matrix(y_test, y_pred))\n",
    "print(\"\\nClassification Report:\")\n",
    "print(classification_report(y_test, y_pred))\n"
   ]
  },
  {
   "cell_type": "code",
   "execution_count": 29,
   "id": "f2b4664a-8486-4333-86b1-a4e7985b852c",
   "metadata": {},
   "outputs": [],
   "source": [
    "# 2. SUPPORT VECTOR MACHINE"
   ]
  },
  {
   "cell_type": "code",
   "execution_count": 30,
   "id": "aa83783c-f7c1-497a-a654-838ab12af642",
   "metadata": {},
   "outputs": [
    {
     "name": "stdout",
     "output_type": "stream",
     "text": [
      "Accuracy: 0.999621445133204\n",
      "\n",
      "Confusion Matrix:\n",
      "[[10614     8]\n",
      " [    0 10511]]\n",
      "\n",
      "Classification Report:\n",
      "              precision    recall  f1-score   support\n",
      "\n",
      "         0.0       1.00      1.00      1.00     10622\n",
      "         1.0       1.00      1.00      1.00     10511\n",
      "\n",
      "    accuracy                           1.00     21133\n",
      "   macro avg       1.00      1.00      1.00     21133\n",
      "weighted avg       1.00      1.00      1.00     21133\n",
      "\n"
     ]
    }
   ],
   "source": [
    "from sklearn.svm import SVC\n",
    "\n",
    "model = SVC(kernel='rbf', random_state=42)  \n",
    "\n",
    "model.fit(X_train, y_train)\n",
    "\n",
    "y_pred = model.predict(X_test)\n",
    "\n",
    "print(\"Accuracy:\", accuracy_score(y_test, y_pred))\n",
    "print(\"\\nConfusion Matrix:\")\n",
    "print(confusion_matrix(y_test, y_pred))\n",
    "print(\"\\nClassification Report:\")\n",
    "print(classification_report(y_test, y_pred))"
   ]
  },
  {
   "cell_type": "code",
   "execution_count": 31,
   "id": "1af8179b-933c-4bc9-ba86-648eccd0d86b",
   "metadata": {},
   "outputs": [],
   "source": [
    "# 3. DECISION TREE CLASSIFIER"
   ]
  },
  {
   "cell_type": "code",
   "execution_count": 32,
   "id": "75d75e77-60e3-495f-9856-e987e8dcad21",
   "metadata": {},
   "outputs": [
    {
     "name": "stdout",
     "output_type": "stream",
     "text": [
      "Accuracy: 0.999810722566602\n",
      "\n",
      "Confusion Matrix:\n",
      "[[10621     1]\n",
      " [    3 10508]]\n",
      "\n",
      "Classification Report:\n",
      "              precision    recall  f1-score   support\n",
      "\n",
      "         0.0       1.00      1.00      1.00     10622\n",
      "         1.0       1.00      1.00      1.00     10511\n",
      "\n",
      "    accuracy                           1.00     21133\n",
      "   macro avg       1.00      1.00      1.00     21133\n",
      "weighted avg       1.00      1.00      1.00     21133\n",
      "\n"
     ]
    }
   ],
   "source": [
    "from sklearn.tree import DecisionTreeClassifier\n",
    "\n",
    "model = DecisionTreeClassifier()\n",
    "\n",
    "model.fit(X_train, y_train)\n",
    "\n",
    "y_pred = model.predict(X_test)\n",
    "\n",
    "print(\"Accuracy:\", accuracy_score(y_test, y_pred))\n",
    "print(\"\\nConfusion Matrix:\")\n",
    "print(confusion_matrix(y_test, y_pred))\n",
    "print(\"\\nClassification Report:\")\n",
    "print(classification_report(y_test, y_pred))\n"
   ]
  },
  {
   "cell_type": "code",
   "execution_count": 33,
   "id": "f00c2963-5b94-4327-a347-87e32068606b",
   "metadata": {},
   "outputs": [],
   "source": [
    "# 4. RANDOM FOREST CLASSIFIER"
   ]
  },
  {
   "cell_type": "code",
   "execution_count": 34,
   "id": "100cf6b3-88b5-42aa-8891-dadfb3f353ce",
   "metadata": {},
   "outputs": [
    {
     "name": "stdout",
     "output_type": "stream",
     "text": [
      "Accuracy: 1.0\n",
      "\n",
      "Confusion Matrix:\n",
      "[[10622     0]\n",
      " [    0 10511]]\n",
      "\n",
      "Classification Report:\n",
      "              precision    recall  f1-score   support\n",
      "\n",
      "         0.0       1.00      1.00      1.00     10622\n",
      "         1.0       1.00      1.00      1.00     10511\n",
      "\n",
      "    accuracy                           1.00     21133\n",
      "   macro avg       1.00      1.00      1.00     21133\n",
      "weighted avg       1.00      1.00      1.00     21133\n",
      "\n"
     ]
    }
   ],
   "source": [
    "from sklearn.ensemble import RandomForestClassifier\n",
    "\n",
    "model = RandomForestClassifier()\n",
    "\n",
    "model.fit(X_train, y_train)\n",
    "\n",
    "y_pred = model.predict(X_test)\n",
    "\n",
    "print(\"Accuracy:\", accuracy_score(y_test, y_pred))\n",
    "print(\"\\nConfusion Matrix:\")\n",
    "print(confusion_matrix(y_test, y_pred))\n",
    "print(\"\\nClassification Report:\")\n",
    "print(classification_report(y_test, y_pred))\n"
   ]
  },
  {
   "cell_type": "code",
   "execution_count": 21,
   "id": "77c494bb-811c-4961-aac6-fe37783af041",
   "metadata": {},
   "outputs": [],
   "source": [
    "# 5. LIGHT GBM"
   ]
  },
  {
   "cell_type": "code",
   "execution_count": 22,
   "id": "d1741467-809c-4193-9450-a98df8d39f18",
   "metadata": {},
   "outputs": [
    {
     "name": "stdout",
     "output_type": "stream",
     "text": [
      "[LightGBM] [Info] Number of positive: 42321, number of negative: 42210\n",
      "[LightGBM] [Info] Auto-choosing col-wise multi-threading, the overhead of testing was 0.004446 seconds.\n",
      "You can set `force_col_wise=true` to remove the overhead.\n",
      "[LightGBM] [Info] Total Bins 5100\n",
      "[LightGBM] [Info] Number of data points in the train set: 84531, number of used features: 20\n",
      "[LightGBM] [Info] [binary:BoostFromScore]: pavg=0.500657 -> initscore=0.002626\n",
      "[LightGBM] [Info] Start training from score 0.002626\n",
      "[LightGBM] [Warning] No further splits with positive gain, best gain: -inf\n",
      "Accuracy: 1.0\n",
      "\n",
      "Confusion Matrix:\n",
      "[[10622     0]\n",
      " [    0 10511]]\n",
      "LightGBM Classification Report:\n",
      "              precision    recall  f1-score   support\n",
      "\n",
      "         0.0       1.00      1.00      1.00     10622\n",
      "         1.0       1.00      1.00      1.00     10511\n",
      "\n",
      "    accuracy                           1.00     21133\n",
      "   macro avg       1.00      1.00      1.00     21133\n",
      "weighted avg       1.00      1.00      1.00     21133\n",
      "\n"
     ]
    }
   ],
   "source": [
    "from lightgbm import LGBMClassifier\n",
    "\n",
    "model = LGBMClassifier()\n",
    "\n",
    "model.fit(X_train, y_train)\n",
    "\n",
    "y_pred = model.predict(X_test)\n",
    "\n",
    "print(\"Accuracy:\", accuracy_score(y_test, y_pred))\n",
    "print(\"\\nConfusion Matrix:\")\n",
    "print(confusion_matrix(y_test, y_pred))\n",
    "print(\"LightGBM Classification Report:\")\n",
    "print(classification_report(y_test, y_pred))\n"
   ]
  },
  {
   "cell_type": "code",
   "execution_count": 23,
   "id": "83256e85-5235-4d9f-8edd-2aaf146265f3",
   "metadata": {},
   "outputs": [],
   "source": [
    "# 6. K-Nearest Neighbors (KNN)"
   ]
  },
  {
   "cell_type": "code",
   "execution_count": 24,
   "id": "1a913ea7-e1c5-4ec1-9615-785ba9f7dbd6",
   "metadata": {},
   "outputs": [
    {
     "name": "stdout",
     "output_type": "stream",
     "text": [
      "Accuracy: 0.999905361283301\n",
      "\n",
      "Confusion Matrix:\n",
      "[[10620     2]\n",
      " [    0 10511]]\n",
      "LightGBM Classification Report:\n",
      "              precision    recall  f1-score   support\n",
      "\n",
      "         0.0       1.00      1.00      1.00     10622\n",
      "         1.0       1.00      1.00      1.00     10511\n",
      "\n",
      "    accuracy                           1.00     21133\n",
      "   macro avg       1.00      1.00      1.00     21133\n",
      "weighted avg       1.00      1.00      1.00     21133\n",
      "\n"
     ]
    }
   ],
   "source": [
    "from sklearn.neighbors import KNeighborsClassifier\n",
    "\n",
    "model = KNeighborsClassifier()\n",
    "\n",
    "model.fit(X_train, y_train)\n",
    "\n",
    "y_pred = model.predict(X_test)\n",
    "\n",
    "print(\"Accuracy:\", accuracy_score(y_test, y_pred))\n",
    "print(\"\\nConfusion Matrix:\")\n",
    "print(confusion_matrix(y_test, y_pred))\n",
    "print(\"LightGBM Classification Report:\")\n",
    "print(classification_report(y_test, y_pred))\n"
   ]
  },
  {
   "cell_type": "code",
   "execution_count": 25,
   "id": "c4f59af9-9766-4d27-aa2a-4364ec657df4",
   "metadata": {},
   "outputs": [],
   "source": [
    "# 7. NAIVE BAYES "
   ]
  },
  {
   "cell_type": "code",
   "execution_count": 26,
   "id": "0c74216b-d62c-4d55-943c-de044d40d4be",
   "metadata": {},
   "outputs": [
    {
     "name": "stdout",
     "output_type": "stream",
     "text": [
      "Accuracy: 1.0\n",
      "\n",
      "Confusion Matrix:\n",
      "[[10622     0]\n",
      " [    0 10511]]\n",
      "LightGBM Classification Report:\n",
      "              precision    recall  f1-score   support\n",
      "\n",
      "         0.0       1.00      1.00      1.00     10622\n",
      "         1.0       1.00      1.00      1.00     10511\n",
      "\n",
      "    accuracy                           1.00     21133\n",
      "   macro avg       1.00      1.00      1.00     21133\n",
      "weighted avg       1.00      1.00      1.00     21133\n",
      "\n"
     ]
    }
   ],
   "source": [
    "from sklearn.naive_bayes import GaussianNB\n",
    "\n",
    "model = GaussianNB()\n",
    "\n",
    "model.fit(X_train, y_train)\n",
    "\n",
    "y_pred = model.predict(X_test)\n",
    "\n",
    "print(\"Accuracy:\", accuracy_score(y_test, y_pred))\n",
    "print(\"\\nConfusion Matrix:\")\n",
    "print(confusion_matrix(y_test, y_pred))\n",
    "print(\"LightGBM Classification Report:\")\n",
    "print(classification_report(y_test, y_pred))\n"
   ]
  },
  {
   "cell_type": "code",
   "execution_count": null,
   "id": "0069b91f-08e5-456c-8fe8-a9a93abe23a1",
   "metadata": {},
   "outputs": [],
   "source": []
  },
  {
   "cell_type": "code",
   "execution_count": null,
   "id": "22170275-ea74-4bec-bcce-1aee0ad1f1c3",
   "metadata": {},
   "outputs": [],
   "source": []
  },
  {
   "cell_type": "code",
   "execution_count": null,
   "id": "b82621f1-3100-4d62-a1ef-662daa46baf8",
   "metadata": {},
   "outputs": [],
   "source": []
  },
  {
   "cell_type": "code",
   "execution_count": null,
   "id": "9a879e58-6fd7-4390-96fe-f85c9155f6a6",
   "metadata": {},
   "outputs": [],
   "source": []
  }
 ],
 "metadata": {
  "kernelspec": {
   "display_name": "Python 3 (ipykernel)",
   "language": "python",
   "name": "python3"
  },
  "language_info": {
   "codemirror_mode": {
    "name": "ipython",
    "version": 3
   },
   "file_extension": ".py",
   "mimetype": "text/x-python",
   "name": "python",
   "nbconvert_exporter": "python",
   "pygments_lexer": "ipython3",
   "version": "3.12.5"
  }
 },
 "nbformat": 4,
 "nbformat_minor": 5
}
